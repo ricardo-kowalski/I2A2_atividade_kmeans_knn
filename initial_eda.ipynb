{
  "nbformat": 4,
  "nbformat_minor": 0,
  "metadata": {
    "colab": {
      "name": "initial-eda.ipynb",
      "version": "0.3.2",
      "provenance": [],
      "collapsed_sections": [],
      "include_colab_link": true
    },
    "kernelspec": {
      "display_name": "Python 3",
      "language": "python",
      "name": "python3"
    },
    "accelerator": "GPU"
  },
  "cells": [
    {
      "cell_type": "markdown",
      "metadata": {
        "id": "view-in-github",
        "colab_type": "text"
      },
      "source": [
        "<a href=\"https://colab.research.google.com/github/ricardo-kowalski/teste/blob/master/initial_eda.ipynb\" target=\"_parent\"><img src=\"https://colab.research.google.com/assets/colab-badge.svg\" alt=\"Open In Colab\"/></a>"
      ]
    },
    {
      "metadata": {
        "id": "l7ShRqcnOupH",
        "colab_type": "code",
        "colab": {
          "base_uri": "https://localhost:8080/",
          "height": 119
        },
        "outputId": "ad06b726-5b70-438f-efe4-0707a46764df"
      },
      "cell_type": "code",
      "source": [
        "# Load the Drive helper and mount\n",
        "from google.colab import drive\n",
        "drive.mount('/drive', force_remount=True)\n",
        "%cd /drive/My\\ Drive/CURSO I2A2/DESAFIO_KMEANS_KNN\n",
        "!ls"
      ],
      "execution_count": 1,
      "outputs": [
        {
          "output_type": "stream",
          "text": [
            "Mounted at /drive\n",
            "/drive/My Drive/CURSO I2A2/DESAFIO_KMEANS_KNN\n",
            "initial-eda_teste1.ipynb  train_sessions.csv\t   versao2.ipynb\n",
            "site_dic.pkl\t\t  train_sessions_text.txt  versao3.ipynb\n",
            "test_sessions.csv\t  Untitled0.ipynb\t   versao4.ipynb\n",
            "test_sessions_text.txt\t  versao1.ipynb\t\t   versao5.ipynb\n"
          ],
          "name": "stdout"
        }
      ]
    },
    {
      "metadata": {
        "id": "v3VdOI5VBSJl",
        "ExecuteTime": {
          "start_time": "2018-03-30T18:48:44.530018Z",
          "end_time": "2018-03-30T18:48:46.015371Z"
        },
        "_uuid": "e96749c041a3e32f4b29252429724a7a3492b539",
        "_cell_guid": "e79e475d-03ae-4285-b26c-cd696e266c56",
        "colab_type": "code",
        "trusted": false,
        "colab": {}
      },
      "cell_type": "code",
      "source": [
        "from __future__ import division, print_function\n",
        "## to ignore warnings as we don't like them as such\n",
        "import warnings\n",
        "warnings.filterwarnings('ignore')\n",
        "#plotting lib's\n",
        "from matplotlib import pyplot as plt\n",
        "%matplotlib inline\n",
        "import seaborn as sns\n",
        "sns.set()\n",
        "#other's\n",
        "import xgboost as xgb\n",
        "from sklearn.model_selection import train_test_split, cross_val_predict, TimeSeriesSplit\n",
        "from sklearn.model_selection import validation_curve, learning_curve\n",
        "from sklearn.metrics import confusion_matrix\n",
        "import pickle\n",
        "import numpy as np\n",
        "import pandas as pd\n",
        "from scipy.sparse import csr_matrix\n",
        "from scipy.sparse import hstack\n",
        "from sklearn.preprocessing import StandardScaler\n",
        "from sklearn.metrics import roc_auc_score\n",
        "from sklearn.feature_extraction.text import TfidfVectorizer, TfidfTransformer\n",
        "from sklearn.linear_model import LogisticRegressionCV, LogisticRegression\n",
        "from sklearn.model_selection import cross_val_score, StratifiedKFold, GridSearchCV, train_test_split, TimeSeriesSplit\n",
        "from sklearn.metrics import accuracy_score , roc_curve, auc\n",
        "from sklearn.ensemble import RandomForestRegressor, RandomForestClassifier"
      ],
      "execution_count": 0,
      "outputs": []
    },
    {
      "metadata": {
        "id": "kKX4n4l7BSJr",
        "ExecuteTime": {
          "start_time": "2018-03-30T18:48:46.019368Z",
          "end_time": "2018-03-30T18:49:35.086762Z"
        },
        "_uuid": "271316382c96e9bb02ad98f0a9ac27e7482a0dcc",
        "_cell_guid": "028a9c0a-9b69-4f64-afe3-78af9adf3b04",
        "colab_type": "code",
        "trusted": false,
        "colab": {}
      },
      "cell_type": "code",
      "source": [
        "# Read the training and test data sets\n",
        "train_df = pd.read_csv('train_sessions.csv',\n",
        "                       index_col='session_id',parse_dates=['time1'])\n",
        "test_df = pd.read_csv('test_sessions.csv',\n",
        "                      index_col='session_id',parse_dates=['time1'])\n",
        "\n",
        "times = ['time%s' % i for i in range(1, 11)]\n",
        "sites = ['site%s' % i for i in range(1, 11)]"
      ],
      "execution_count": 0,
      "outputs": []
    },
    {
      "metadata": {
        "_uuid": "4b4e9b8ee280d00fc02b79a4fd72cc3c469da974",
        "_cell_guid": "81f7253a-4156-44d4-b705-5c7a715f1d6d",
        "trusted": false,
        "id": "khAeSWJLOhU_",
        "colab_type": "code",
        "colab": {
          "base_uri": "https://localhost:8080/",
          "height": 34
        },
        "outputId": "a8b3d517-d694-42db-c8d0-793740ca65e7"
      },
      "cell_type": "code",
      "source": [
        "train_df.shape, test_df.shape"
      ],
      "execution_count": 7,
      "outputs": [
        {
          "output_type": "execute_result",
          "data": {
            "text/plain": [
              "((253561, 21), (82797, 20))"
            ]
          },
          "metadata": {
            "tags": []
          },
          "execution_count": 7
        }
      ]
    },
    {
      "metadata": {
        "_uuid": "75256cb66965ad625663f245e2da4016cecf58bf",
        "_cell_guid": "a943a371-1d8c-4447-82fd-23111e1cc434",
        "trusted": false,
        "id": "mtQJlNOLOhVF",
        "colab_type": "code",
        "colab": {
          "base_uri": "https://localhost:8080/",
          "height": 102
        },
        "outputId": "1642f568-af2f-45fd-ee21-b52961faaf8e"
      },
      "cell_type": "code",
      "source": [
        "train_df.get_ftype_counts()"
      ],
      "execution_count": 8,
      "outputs": [
        {
          "output_type": "execute_result",
          "data": {
            "text/plain": [
              "datetime64[ns]:dense    1\n",
              "float64:dense           9\n",
              "int64:dense             2\n",
              "object:dense            9\n",
              "dtype: int64"
            ]
          },
          "metadata": {
            "tags": []
          },
          "execution_count": 8
        }
      ]
    },
    {
      "metadata": {
        "_uuid": "a8dbc5347311599ebcbb36d97b03cd5686731a3d",
        "_cell_guid": "485edd2d-02c3-4026-8e21-1352afdd0357",
        "trusted": false,
        "id": "DqxQwLg-OhVK",
        "colab_type": "code",
        "colab": {
          "base_uri": "https://localhost:8080/",
          "height": 102
        },
        "outputId": "00684d9c-d361-4d0e-803e-e27c4c65679f"
      },
      "cell_type": "code",
      "source": [
        "test_df.get_ftype_counts()"
      ],
      "execution_count": 9,
      "outputs": [
        {
          "output_type": "execute_result",
          "data": {
            "text/plain": [
              "datetime64[ns]:dense    1\n",
              "float64:dense           9\n",
              "int64:dense             1\n",
              "object:dense            9\n",
              "dtype: int64"
            ]
          },
          "metadata": {
            "tags": []
          },
          "execution_count": 9
        }
      ]
    },
    {
      "metadata": {
        "_uuid": "a672e0b97ab22ddaa15e1d07bd9b6acfd55548cc",
        "_cell_guid": "34378f2d-e999-4b52-a68b-c15f5025bca9",
        "trusted": false,
        "id": "f2LHHGA7OhVO",
        "colab_type": "code",
        "colab": {
          "base_uri": "https://localhost:8080/",
          "height": 378
        },
        "outputId": "ee48c422-dcd2-4a40-ba7f-f67a9c09ae64"
      },
      "cell_type": "code",
      "source": [
        "sns.countplot(train_df['target']) #Imbalanced Dataset"
      ],
      "execution_count": 10,
      "outputs": [
        {
          "output_type": "execute_result",
          "data": {
            "text/plain": [
              "<matplotlib.axes._subplots.AxesSubplot at 0x7f01f91a6e80>"
            ]
          },
          "metadata": {
            "tags": []
          },
          "execution_count": 10
        },
        {
          "output_type": "display_data",
          "data": {
            "image/png": "[encoded data removed]",
            "text/plain": [
              "<Figure size 576x396 with 1 Axes>"
            ]
          },
          "metadata": {
            "tags": []
          }
        }
      ]
    },
    {
      "metadata": {
        "_uuid": "37dec068db7ed2edcf5ba43a6a3aaa16b17ebadd",
        "_cell_guid": "78c87b08-4209-484c-a69c-a3cbe31801ac",
        "ExecuteTime": {
          "start_time": "2018-03-30T18:49:35.086762Z",
          "end_time": "2018-03-30T18:49:37.704011Z"
        },
        "trusted": false,
        "id": "V-LXVSHEOhVS",
        "colab_type": "code",
        "colab": {}
      },
      "cell_type": "code",
      "source": [
        "train_df[times] = train_df[times].apply(pd.to_datetime)\n",
        "test_df[times] = test_df[times].apply(pd.to_datetime)\n",
        "\n",
        "# Sort the data by time\n",
        "train_df = train_df.sort_values(by='time1')\n",
        "\n",
        "train_df[sites] = train_df[sites].fillna(0).astype('int')\n",
        "test_df[sites] = test_df[sites].fillna(0).astype('int')"
      ],
      "execution_count": 0,
      "outputs": []
    },
    {
      "metadata": {
        "id": "BxxfgsaEBSJy",
        "ExecuteTime": {
          "start_time": "2018-03-30T18:49:37.815618Z",
          "end_time": "2018-03-30T18:49:38.05719Z"
        },
        "outputId": "c5ae54e5-560d-489c-90bb-3dcff7152b60",
        "_uuid": "292f32b839cdae75b736634998451af150cd09e0",
        "_cell_guid": "8d2c5fb2-6382-4f71-88d6-bb50d0a3d689",
        "colab_type": "code",
        "trusted": false,
        "colab": {
          "base_uri": "https://localhost:8080/",
          "height": 34
        }
      },
      "cell_type": "code",
      "source": [
        "# Change site1, ..., site10 columns type to integer and fill NA-values with zeros\n",
        "\n",
        "train_df[sites] = train_df[sites].fillna(0).astype('int')\n",
        "test_df[sites] = test_df[sites].fillna(0).astype('int')\n",
        "\n",
        "# Load websites dictionary\n",
        "with open(r\"site_dic.pkl\", \"rb\") as input_file:\n",
        "    site_dict = pickle.load(input_file)\n",
        "\n",
        "# Create dataframe for the dictionary\n",
        "sites_dict = pd.DataFrame(list(site_dict.keys()), index=list(site_dict.values()), columns=['site'])\n",
        "print(u'Websites total:', sites_dict.shape[0])"
      ],
      "execution_count": 12,
      "outputs": [
        {
          "output_type": "stream",
          "text": [
            "Websites total: 48371\n"
          ],
          "name": "stdout"
        }
      ]
    },
    {
      "metadata": {
        "id": "0AnM5udlBSJ6",
        "ExecuteTime": {
          "start_time": "2018-03-30T18:49:38.061195Z",
          "end_time": "2018-03-30T18:49:38.197226Z"
        },
        "outputId": "c736006d-35bc-4689-c3ab-df1db3e2fb00",
        "_uuid": "11c079d363a69119cc41fbfabbd2fb39213d7bf4",
        "_cell_guid": "de20a7d8-95f6-4575-ba2b-cb21d480f2e1",
        "colab_type": "code",
        "trusted": false,
        "colab": {
          "base_uri": "https://localhost:8080/",
          "height": 119
        }
      },
      "cell_type": "code",
      "source": [
        "# Top websites in the training data set\n",
        "top_sites = pd.Series(train_df[sites].fillna(0).values.flatten()\n",
        "                     ).value_counts().sort_values(ascending=False).head(5)\n",
        "top_sites"
      ],
      "execution_count": 13,
      "outputs": [
        {
          "output_type": "execute_result",
          "data": {
            "text/plain": [
              "21     123776\n",
              "0      122730\n",
              "23      87619\n",
              "782     77055\n",
              "22      58258\n",
              "dtype: int64"
            ]
          },
          "metadata": {
            "tags": []
          },
          "execution_count": 13
        }
      ]
    },
    {
      "metadata": {
        "id": "U6z3eawbBSJ_",
        "ExecuteTime": {
          "start_time": "2018-03-30T18:49:38.197226Z",
          "end_time": "2018-03-30T18:49:38.213191Z"
        },
        "outputId": "a5c4c4bc-bd2e-4412-90c3-885f49034725",
        "_uuid": "af43b1276ea0ab32b4204aa6a448ae55f3568a42",
        "_cell_guid": "518a2264-b01f-4e84-ae6e-6eb9de63aec1",
        "colab_type": "code",
        "trusted": false,
        "colab": {
          "base_uri": "https://localhost:8080/",
          "height": 119
        }
      },
      "cell_type": "code",
      "source": [
        "# Alice's preferences\n",
        "top_sites_alice = pd.Series(train_df[train_df.target==1][sites].fillna(0).values.flatten()\n",
        "                           ).value_counts().sort_values(ascending=False).head()\n",
        "top_sites_alice"
      ],
      "execution_count": 14,
      "outputs": [
        {
          "output_type": "execute_result",
          "data": {
            "text/plain": [
              "77    1382\n",
              "80    1354\n",
              "76    1307\n",
              "29     897\n",
              "21     857\n",
              "dtype: int64"
            ]
          },
          "metadata": {
            "tags": []
          },
          "execution_count": 14
        }
      ]
    },
    {
      "metadata": {
        "id": "ZQcLHbV3BSKD",
        "ExecuteTime": {
          "start_time": "2018-03-30T18:49:38.213191Z",
          "end_time": "2018-03-30T18:49:38.509657Z"
        },
        "_uuid": "7a2c65ecd0ced34710162a60252fac0e0b2f54ec",
        "_cell_guid": "de3385a8-7cfe-43ab-9bc4-f6eb7b8e0ffb",
        "colab_type": "code",
        "trusted": false,
        "colab": {}
      },
      "cell_type": "code",
      "source": [
        "time_df = pd.DataFrame(index=train_df.index)\n",
        "time_df['target'] = train_df['target']\n",
        "\n",
        "# Find sessions' starting and ending\n",
        "time_df['min'] = train_df[times].min(axis=1)\n",
        "time_df['max'] = train_df[times].max(axis=1)\n",
        "\n",
        "# Calculate sessions' duration in seconds\n",
        "time_df['seconds'] = (time_df['max'] - time_df['min']) / np.timedelta64(1, 's')"
      ],
      "execution_count": 0,
      "outputs": []
    },
    {
      "metadata": {
        "id": "GWyHMLqrC3iV",
        "ExecuteTime": {
          "start_time": "2018-03-30T18:49:38.509657Z",
          "end_time": "2018-03-30T18:49:38.569189Z"
        },
        "_uuid": "0741ffb216937585fe32c610272fb2f65eb8ae40",
        "_cell_guid": "81e86842-f15d-41a9-80ae-c651fc2196c5",
        "colab_type": "code",
        "trusted": false,
        "colab": {}
      },
      "cell_type": "code",
      "source": [
        "time_df_test = pd.DataFrame(index=test_df.index)\n",
        "\n",
        "# Find sessions' starting and ending\n",
        "time_df_test['min'] = test_df[times].min(axis=1)\n",
        "time_df_test['max'] = test_df[times].max(axis=1)\n",
        "\n",
        "# Calculate sessions' duration in seconds\n",
        "time_df_test['seconds'] = (time_df_test['max'] - time_df_test['min']) / np.timedelta64(1, 's')"
      ],
      "execution_count": 0,
      "outputs": []
    },
    {
      "metadata": {
        "_uuid": "659b7c66c83575f47d2d53b818e39c126206b57b",
        "_cell_guid": "fdb5ac2b-190a-45eb-9028-a12b0ada964f",
        "id": "qDpZHeLfOhVz",
        "colab_type": "text"
      },
      "cell_type": "markdown",
      "source": [
        "- y_train - our target variable \n",
        "\n",
        "- full_df - the merged table of input data (training and test samples together) \n",
        "\n",
        "* idx_split - the index by which we will separate the training sample from the test\n"
      ]
    },
    {
      "metadata": {
        "id": "gP5KCo1ZBSKS",
        "ExecuteTime": {
          "start_time": "2018-03-30T18:49:38.665188Z",
          "end_time": "2018-03-30T18:49:38.821467Z"
        },
        "_uuid": "19937b0361ad6add8bf4fb8255db534ebafa9f88",
        "_cell_guid": "2c3d72c8-4479-4e52-bf65-b235edaec31b",
        "colab_type": "code",
        "trusted": false,
        "colab": {}
      },
      "cell_type": "code",
      "source": [
        "# Our target variable\n",
        "y_train = train_df['target']\n",
        "\n",
        "# United dataframe of the initial data \n",
        "full_df = pd.concat([train_df.drop('target', axis=1), test_df])\n",
        "\n",
        "#full_df[:].fillna(method='bfill',inplace=True)\n",
        "\n",
        "# Index to split the training and test data sets\n",
        "idx_split = train_df.shape[0]"
      ],
      "execution_count": 0,
      "outputs": []
    },
    {
      "metadata": {
        "_uuid": "95a374627c2c8ebbd58d5ffe18f27d472efc33fd",
        "_cell_guid": "095c1e3d-b237-4d75-9f09-b5166a49c7bc",
        "ExecuteTime": {
          "start_time": "2018-03-30T18:49:38.821467Z",
          "end_time": "2018-03-30T18:49:38.86919Z"
        },
        "trusted": false,
        "id": "lkG6nJDrOhV9",
        "colab_type": "code",
        "colab": {
          "base_uri": "https://localhost:8080/",
          "height": 320
        },
        "outputId": "691cf6d6-bbbe-412c-c558-66e9bfb26c69"
      },
      "cell_type": "code",
      "source": [
        "full_df.head(5)"
      ],
      "execution_count": 18,
      "outputs": [
        {
          "output_type": "execute_result",
          "data": {
            "text/html": [
              "<div>\n",
              "<style scoped>\n",
              "    .dataframe tbody tr th:only-of-type {\n",
              "        vertical-align: middle;\n",
              "    }\n",
              "\n",
              "    .dataframe tbody tr th {\n",
              "        vertical-align: top;\n",
              "    }\n",
              "\n",
              "    .dataframe thead th {\n",
              "        text-align: right;\n",
              "    }\n",
              "</style>\n",
              "<table border=\"1\" class=\"dataframe\">\n",
              "  <thead>\n",
              "    <tr style=\"text-align: right;\">\n",
              "      <th></th>\n",
              "      <th>site1</th>\n",
              "      <th>time1</th>\n",
              "      <th>site2</th>\n",
              "      <th>time2</th>\n",
              "      <th>site3</th>\n",
              "      <th>time3</th>\n",
              "      <th>site4</th>\n",
              "      <th>time4</th>\n",
              "      <th>site5</th>\n",
              "      <th>time5</th>\n",
              "      <th>site6</th>\n",
              "      <th>time6</th>\n",
              "      <th>site7</th>\n",
              "      <th>time7</th>\n",
              "      <th>site8</th>\n",
              "      <th>time8</th>\n",
              "      <th>site9</th>\n",
              "      <th>time9</th>\n",
              "      <th>site10</th>\n",
              "      <th>time10</th>\n",
              "    </tr>\n",
              "    <tr>\n",
              "      <th>session_id</th>\n",
              "      <th></th>\n",
              "      <th></th>\n",
              "      <th></th>\n",
              "      <th></th>\n",
              "      <th></th>\n",
              "      <th></th>\n",
              "      <th></th>\n",
              "      <th></th>\n",
              "      <th></th>\n",
              "      <th></th>\n",
              "      <th></th>\n",
              "      <th></th>\n",
              "      <th></th>\n",
              "      <th></th>\n",
              "      <th></th>\n",
              "      <th></th>\n",
              "      <th></th>\n",
              "      <th></th>\n",
              "      <th></th>\n",
              "      <th></th>\n",
              "    </tr>\n",
              "  </thead>\n",
              "  <tbody>\n",
              "    <tr>\n",
              "      <th>21669</th>\n",
              "      <td>56</td>\n",
              "      <td>2013-01-12 08:05:57</td>\n",
              "      <td>55</td>\n",
              "      <td>2013-01-12 08:05:57</td>\n",
              "      <td>0</td>\n",
              "      <td>NaT</td>\n",
              "      <td>0</td>\n",
              "      <td>NaT</td>\n",
              "      <td>0</td>\n",
              "      <td>NaT</td>\n",
              "      <td>0</td>\n",
              "      <td>NaT</td>\n",
              "      <td>0</td>\n",
              "      <td>NaT</td>\n",
              "      <td>0</td>\n",
              "      <td>NaT</td>\n",
              "      <td>0</td>\n",
              "      <td>NaT</td>\n",
              "      <td>0</td>\n",
              "      <td>NaT</td>\n",
              "    </tr>\n",
              "    <tr>\n",
              "      <th>54843</th>\n",
              "      <td>56</td>\n",
              "      <td>2013-01-12 08:37:23</td>\n",
              "      <td>55</td>\n",
              "      <td>2013-01-12 08:37:23</td>\n",
              "      <td>56</td>\n",
              "      <td>2013-01-12 09:07:07</td>\n",
              "      <td>55</td>\n",
              "      <td>2013-01-12 09:07:09</td>\n",
              "      <td>0</td>\n",
              "      <td>NaT</td>\n",
              "      <td>0</td>\n",
              "      <td>NaT</td>\n",
              "      <td>0</td>\n",
              "      <td>NaT</td>\n",
              "      <td>0</td>\n",
              "      <td>NaT</td>\n",
              "      <td>0</td>\n",
              "      <td>NaT</td>\n",
              "      <td>0</td>\n",
              "      <td>NaT</td>\n",
              "    </tr>\n",
              "    <tr>\n",
              "      <th>77292</th>\n",
              "      <td>946</td>\n",
              "      <td>2013-01-12 08:50:13</td>\n",
              "      <td>946</td>\n",
              "      <td>2013-01-12 08:50:14</td>\n",
              "      <td>951</td>\n",
              "      <td>2013-01-12 08:50:15</td>\n",
              "      <td>946</td>\n",
              "      <td>2013-01-12 08:50:15</td>\n",
              "      <td>946</td>\n",
              "      <td>2013-01-12 08:50:16</td>\n",
              "      <td>945</td>\n",
              "      <td>2013-01-12 08:50:16</td>\n",
              "      <td>948</td>\n",
              "      <td>2013-01-12 08:50:16</td>\n",
              "      <td>784</td>\n",
              "      <td>2013-01-12 08:50:16</td>\n",
              "      <td>949</td>\n",
              "      <td>2013-01-12 08:50:17</td>\n",
              "      <td>946</td>\n",
              "      <td>2013-01-12 08:50:17</td>\n",
              "    </tr>\n",
              "    <tr>\n",
              "      <th>114021</th>\n",
              "      <td>945</td>\n",
              "      <td>2013-01-12 08:50:17</td>\n",
              "      <td>948</td>\n",
              "      <td>2013-01-12 08:50:17</td>\n",
              "      <td>949</td>\n",
              "      <td>2013-01-12 08:50:18</td>\n",
              "      <td>948</td>\n",
              "      <td>2013-01-12 08:50:18</td>\n",
              "      <td>945</td>\n",
              "      <td>2013-01-12 08:50:18</td>\n",
              "      <td>946</td>\n",
              "      <td>2013-01-12 08:50:18</td>\n",
              "      <td>947</td>\n",
              "      <td>2013-01-12 08:50:19</td>\n",
              "      <td>945</td>\n",
              "      <td>2013-01-12 08:50:19</td>\n",
              "      <td>946</td>\n",
              "      <td>2013-01-12 08:50:19</td>\n",
              "      <td>946</td>\n",
              "      <td>2013-01-12 08:50:20</td>\n",
              "    </tr>\n",
              "    <tr>\n",
              "      <th>146670</th>\n",
              "      <td>947</td>\n",
              "      <td>2013-01-12 08:50:20</td>\n",
              "      <td>950</td>\n",
              "      <td>2013-01-12 08:50:20</td>\n",
              "      <td>948</td>\n",
              "      <td>2013-01-12 08:50:20</td>\n",
              "      <td>947</td>\n",
              "      <td>2013-01-12 08:50:21</td>\n",
              "      <td>950</td>\n",
              "      <td>2013-01-12 08:50:21</td>\n",
              "      <td>952</td>\n",
              "      <td>2013-01-12 08:50:21</td>\n",
              "      <td>946</td>\n",
              "      <td>2013-01-12 08:50:21</td>\n",
              "      <td>951</td>\n",
              "      <td>2013-01-12 08:50:22</td>\n",
              "      <td>946</td>\n",
              "      <td>2013-01-12 08:50:22</td>\n",
              "      <td>947</td>\n",
              "      <td>2013-01-12 08:50:22</td>\n",
              "    </tr>\n",
              "  </tbody>\n",
              "</table>\n",
              "</div>"
            ],
            "text/plain": [
              "            site1               time1  site2               time2  site3  \\\n",
              "session_id                                                                \n",
              "21669          56 2013-01-12 08:05:57     55 2013-01-12 08:05:57      0   \n",
              "54843          56 2013-01-12 08:37:23     55 2013-01-12 08:37:23     56   \n",
              "77292         946 2013-01-12 08:50:13    946 2013-01-12 08:50:14    951   \n",
              "114021        945 2013-01-12 08:50:17    948 2013-01-12 08:50:17    949   \n",
              "146670        947 2013-01-12 08:50:20    950 2013-01-12 08:50:20    948   \n",
              "\n",
              "                         time3  site4               time4  site5  \\\n",
              "session_id                                                         \n",
              "21669                      NaT      0                 NaT      0   \n",
              "54843      2013-01-12 09:07:07     55 2013-01-12 09:07:09      0   \n",
              "77292      2013-01-12 08:50:15    946 2013-01-12 08:50:15    946   \n",
              "114021     2013-01-12 08:50:18    948 2013-01-12 08:50:18    945   \n",
              "146670     2013-01-12 08:50:20    947 2013-01-12 08:50:21    950   \n",
              "\n",
              "                         time5  site6               time6  site7  \\\n",
              "session_id                                                         \n",
              "21669                      NaT      0                 NaT      0   \n",
              "54843                      NaT      0                 NaT      0   \n",
              "77292      2013-01-12 08:50:16    945 2013-01-12 08:50:16    948   \n",
              "114021     2013-01-12 08:50:18    946 2013-01-12 08:50:18    947   \n",
              "146670     2013-01-12 08:50:21    952 2013-01-12 08:50:21    946   \n",
              "\n",
              "                         time7  site8               time8  site9  \\\n",
              "session_id                                                         \n",
              "21669                      NaT      0                 NaT      0   \n",
              "54843                      NaT      0                 NaT      0   \n",
              "77292      2013-01-12 08:50:16    784 2013-01-12 08:50:16    949   \n",
              "114021     2013-01-12 08:50:19    945 2013-01-12 08:50:19    946   \n",
              "146670     2013-01-12 08:50:21    951 2013-01-12 08:50:22    946   \n",
              "\n",
              "                         time9  site10              time10  \n",
              "session_id                                                  \n",
              "21669                      NaT       0                 NaT  \n",
              "54843                      NaT       0                 NaT  \n",
              "77292      2013-01-12 08:50:17     946 2013-01-12 08:50:17  \n",
              "114021     2013-01-12 08:50:19     946 2013-01-12 08:50:20  \n",
              "146670     2013-01-12 08:50:22     947 2013-01-12 08:50:22  "
            ]
          },
          "metadata": {
            "tags": []
          },
          "execution_count": 18
        }
      ]
    },
    {
      "metadata": {
        "id": "N-9k58HKBSKW",
        "ExecuteTime": {
          "start_time": "2018-03-30T18:49:38.86919Z",
          "end_time": "2018-03-30T18:49:39.005763Z"
        },
        "_uuid": "e10bdaeda46796dae4a37f91d68e486ed1fea623",
        "_cell_guid": "9087a991-7fee-4567-b158-46b7ea849156",
        "colab_type": "code",
        "trusted": false,
        "colab": {
          "base_uri": "https://localhost:8080/",
          "height": 173
        },
        "outputId": "a9606b3c-98f3-42ae-c259-fb782a0ae304"
      },
      "cell_type": "code",
      "source": [
        "full_sites = full_df[sites] #only sites\n",
        "full_sites.head(3)"
      ],
      "execution_count": 19,
      "outputs": [
        {
          "output_type": "execute_result",
          "data": {
            "text/html": [
              "<div>\n",
              "<style scoped>\n",
              "    .dataframe tbody tr th:only-of-type {\n",
              "        vertical-align: middle;\n",
              "    }\n",
              "\n",
              "    .dataframe tbody tr th {\n",
              "        vertical-align: top;\n",
              "    }\n",
              "\n",
              "    .dataframe thead th {\n",
              "        text-align: right;\n",
              "    }\n",
              "</style>\n",
              "<table border=\"1\" class=\"dataframe\">\n",
              "  <thead>\n",
              "    <tr style=\"text-align: right;\">\n",
              "      <th></th>\n",
              "      <th>site1</th>\n",
              "      <th>site2</th>\n",
              "      <th>site3</th>\n",
              "      <th>site4</th>\n",
              "      <th>site5</th>\n",
              "      <th>site6</th>\n",
              "      <th>site7</th>\n",
              "      <th>site8</th>\n",
              "      <th>site9</th>\n",
              "      <th>site10</th>\n",
              "    </tr>\n",
              "    <tr>\n",
              "      <th>session_id</th>\n",
              "      <th></th>\n",
              "      <th></th>\n",
              "      <th></th>\n",
              "      <th></th>\n",
              "      <th></th>\n",
              "      <th></th>\n",
              "      <th></th>\n",
              "      <th></th>\n",
              "      <th></th>\n",
              "      <th></th>\n",
              "    </tr>\n",
              "  </thead>\n",
              "  <tbody>\n",
              "    <tr>\n",
              "      <th>21669</th>\n",
              "      <td>56</td>\n",
              "      <td>55</td>\n",
              "      <td>0</td>\n",
              "      <td>0</td>\n",
              "      <td>0</td>\n",
              "      <td>0</td>\n",
              "      <td>0</td>\n",
              "      <td>0</td>\n",
              "      <td>0</td>\n",
              "      <td>0</td>\n",
              "    </tr>\n",
              "    <tr>\n",
              "      <th>54843</th>\n",
              "      <td>56</td>\n",
              "      <td>55</td>\n",
              "      <td>56</td>\n",
              "      <td>55</td>\n",
              "      <td>0</td>\n",
              "      <td>0</td>\n",
              "      <td>0</td>\n",
              "      <td>0</td>\n",
              "      <td>0</td>\n",
              "      <td>0</td>\n",
              "    </tr>\n",
              "    <tr>\n",
              "      <th>77292</th>\n",
              "      <td>946</td>\n",
              "      <td>946</td>\n",
              "      <td>951</td>\n",
              "      <td>946</td>\n",
              "      <td>946</td>\n",
              "      <td>945</td>\n",
              "      <td>948</td>\n",
              "      <td>784</td>\n",
              "      <td>949</td>\n",
              "      <td>946</td>\n",
              "    </tr>\n",
              "  </tbody>\n",
              "</table>\n",
              "</div>"
            ],
            "text/plain": [
              "            site1  site2  site3  site4  site5  site6  site7  site8  site9  \\\n",
              "session_id                                                                  \n",
              "21669          56     55      0      0      0      0      0      0      0   \n",
              "54843          56     55     56     55      0      0      0      0      0   \n",
              "77292         946    946    951    946    946    945    948    784    949   \n",
              "\n",
              "            site10  \n",
              "session_id          \n",
              "21669            0  \n",
              "54843            0  \n",
              "77292          946  "
            ]
          },
          "metadata": {
            "tags": []
          },
          "execution_count": 19
        }
      ]
    },
    {
      "metadata": {
        "_uuid": "56a2038c4d07bb47a4c91730c22b9f880c594280",
        "_cell_guid": "e54d336b-0d63-44ea-8fbc-8bdf56f68424",
        "id": "5v-eKiD9OhWG",
        "colab_type": "text"
      },
      "cell_type": "markdown",
      "source": [
        "## Creating characteristics\n",
        "\n",
        "- Extracting attributes from the site table \n",
        "\n",
        "- Count the number of unique sites in each session"
      ]
    },
    {
      "metadata": {
        "_uuid": "9a21a6db2c390cb24f12a3cdb54529c8a63f498c",
        "_cell_guid": "1455c8d2-a29b-4d6f-952f-f0d3eba32390",
        "ExecuteTime": {
          "start_time": "2018-03-30T18:49:39.005763Z",
          "end_time": "2018-03-30T18:49:42.689073Z"
        },
        "trusted": false,
        "id": "Wh_mv5B_OhWH",
        "colab_type": "code",
        "colab": {
          "base_uri": "https://localhost:8080/",
          "height": 51
        },
        "outputId": "b525a9bb-7f2d-48fb-c061-b461876779a5"
      },
      "cell_type": "code",
      "source": [
        "%%time\n",
        "#Getting Unique Counts\n",
        "unique_count = []\n",
        "for row in full_sites.values:\n",
        "    unique = np.unique (row)\n",
        "    if 0 in unique:\n",
        "        unique_count.append(len(unique) - 1)\n",
        "    else:\n",
        "        unique_count.append(len(unique))\n",
        "unique_count = np.array(unique_count).reshape(-1,1)"
      ],
      "execution_count": 20,
      "outputs": [
        {
          "output_type": "stream",
          "text": [
            "CPU times: user 5.04 s, sys: 8.28 ms, total: 5.04 s\n",
            "Wall time: 5.05 s\n"
          ],
          "name": "stdout"
        }
      ]
    },
    {
      "metadata": {
        "_uuid": "39c364fd6d52ef101c32c45ec57e80ca501c94cb",
        "_cell_guid": "b9352a85-0e9d-4976-bb25-13bff860d38b",
        "ExecuteTime": {
          "start_time": "2018-03-30T18:49:42.689073Z",
          "end_time": "2018-03-30T18:49:42.701073Z"
        },
        "trusted": false,
        "id": "UkR8QcevOhWM",
        "colab_type": "code",
        "colab": {
          "base_uri": "https://localhost:8080/",
          "height": 187
        },
        "outputId": "e39c2f40-6130-468f-a2bb-0a313f9d0527"
      },
      "cell_type": "code",
      "source": [
        "unique_count[:10] #print few"
      ],
      "execution_count": 21,
      "outputs": [
        {
          "output_type": "execute_result",
          "data": {
            "text/plain": [
              "array([[2],\n",
              "       [2],\n",
              "       [6],\n",
              "       [5],\n",
              "       [6],\n",
              "       [5],\n",
              "       [5],\n",
              "       [6],\n",
              "       [5],\n",
              "       [8]])"
            ]
          },
          "metadata": {
            "tags": []
          },
          "execution_count": 21
        }
      ]
    },
    {
      "metadata": {
        "_uuid": "d81385e726e32e8321feeed81ada267e370ca480",
        "_cell_guid": "b0c6cd90-111d-48f4-b58e-bacea0e42ebe",
        "ExecuteTime": {
          "start_time": "2018-03-30T18:49:42.701073Z",
          "end_time": "2018-03-30T18:49:42.81767Z"
        },
        "trusted": false,
        "id": "KrBDdSRpOhWW",
        "colab_type": "code",
        "colab": {}
      },
      "cell_type": "code",
      "source": [
        "additional_data_df  =  pd.DataFrame(data = unique_count ,columns = ['unique'],index = full_df.index ) #my features dataframe"
      ],
      "execution_count": 0,
      "outputs": []
    },
    {
      "metadata": {
        "_uuid": "2211938c6601cf877d7c6bbc05a21ff71a125963",
        "_cell_guid": "e2838ad4-5697-4413-8443-0bcf2df32f00",
        "id": "RVQFkFGCOhWc",
        "colab_type": "text"
      },
      "cell_type": "markdown",
      "source": [
        "Create a dictionary where the keys are sites, and the values ​​- the number of sessions in which this site met."
      ]
    },
    {
      "metadata": {
        "_uuid": "76912b1a239ff111a1a06ec18d4d44c140100a36",
        "_cell_guid": "2bd6e48b-6901-4dea-8e13-1a254a6364a7",
        "ExecuteTime": {
          "start_time": "2018-03-30T18:49:42.81767Z",
          "end_time": "2018-03-30T18:49:46.084416Z"
        },
        "trusted": false,
        "id": "tgLHjVPpOhWg",
        "colab_type": "code",
        "colab": {
          "base_uri": "https://localhost:8080/",
          "height": 34
        },
        "outputId": "09b77251-59fd-494f-964d-82ec7df83403"
      },
      "cell_type": "code",
      "source": [
        "site_dict  =  {} \n",
        "for  row  in  full_sites . values : \n",
        "    for  site_id  in  np . unique ( row ): \n",
        "        if  site_id  in  site_dict : \n",
        "            site_dict [ site_id ]  +=  1 \n",
        "        else : \n",
        "            site_dict [ site_id ]  =  1 \n",
        "site_dict.pop(0)"
      ],
      "execution_count": 23,
      "outputs": [
        {
          "output_type": "execute_result",
          "data": {
            "text/plain": [
              "30500"
            ]
          },
          "metadata": {
            "tags": []
          },
          "execution_count": 23
        }
      ]
    },
    {
      "metadata": {
        "_uuid": "17616f1d34f4bbf45c98023a26127a339893a3e1",
        "_cell_guid": "76d970d6-2c15-4da0-9865-ac506be508a3",
        "id": "AwsLPHO8OhWm",
        "colab_type": "text"
      },
      "cell_type": "markdown",
      "source": [
        "Make the presence indicator in the site of the site, which is included in the top 10 popular sites"
      ]
    },
    {
      "metadata": {
        "_uuid": "86c1306ea121c5b964e814e2107d6684b06eb0c4",
        "_cell_guid": "8173b60f-856c-4477-a0b9-36187722a0e6",
        "ExecuteTime": {
          "start_time": "2018-03-30T18:49:46.085509Z",
          "end_time": "2018-03-30T18:49:49.310093Z"
        },
        "trusted": false,
        "id": "pitSD8mMOhWo",
        "colab_type": "code",
        "colab": {
          "base_uri": "https://localhost:8080/",
          "height": 51
        },
        "outputId": "1caf6b80-a7f6-4085-9f0a-28a60e74a180"
      },
      "cell_type": "code",
      "source": [
        "%%time\n",
        "top_10 = sorted (list (site_dict.items ()), key = lambda tup: tup [1], reverse = True) [: 10]\n",
        "top_10 = [element [0] for element in top_10]\n",
        "have_top_10 = np.zeros ((full_sites.shape [0], 1), dtype = int)\n",
        "ind = 0\n",
        "for row in full_sites.values:\n",
        "    unique = np.unique (row)\n",
        "    for site_id in unique:\n",
        "        if site_id in top_10:\n",
        "            have_top_10[ind] = 1\n",
        "    ind += 1\n",
        "\n",
        "have_top_10"
      ],
      "execution_count": 24,
      "outputs": [
        {
          "output_type": "stream",
          "text": [
            "CPU times: user 4.32 s, sys: 5.59 ms, total: 4.33 s\n",
            "Wall time: 4.32 s\n"
          ],
          "name": "stdout"
        }
      ]
    },
    {
      "metadata": {
        "_uuid": "c58d4ff56b75b477dea7f79e82484c7bd7e1b15d",
        "_cell_guid": "cde16de3-db4c-485b-9b86-b2ffa3ccf0e1",
        "ExecuteTime": {
          "start_time": "2018-03-30T18:49:49.310093Z",
          "end_time": "2018-03-30T18:49:49.318095Z"
        },
        "trusted": false,
        "id": "WTCS0HOuOhWv",
        "colab_type": "code",
        "colab": {}
      },
      "cell_type": "code",
      "source": [
        "additional_data_df [ 'have_top_10' ]  =  have_top_10"
      ],
      "execution_count": 0,
      "outputs": []
    },
    {
      "metadata": {
        "_uuid": "35cd68e54396e78407b01abf0fa064ebd193986b",
        "_cell_guid": "a37e9261-ffb5-4e45-9577-68c4b97ed867",
        "ExecuteTime": {
          "start_time": "2018-03-30T18:49:49.318095Z",
          "end_time": "2018-03-30T18:49:49.522591Z"
        },
        "trusted": false,
        "id": "v4T9XYsSOhW0",
        "colab_type": "code",
        "colab": {
          "base_uri": "https://localhost:8080/",
          "height": 173
        },
        "outputId": "f3ee541e-38a0-4585-d252-6bc97f7f5c7b"
      },
      "cell_type": "code",
      "source": [
        "additional_data_df.head(3)"
      ],
      "execution_count": 26,
      "outputs": [
        {
          "output_type": "execute_result",
          "data": {
            "text/html": [
              "<div>\n",
              "<style scoped>\n",
              "    .dataframe tbody tr th:only-of-type {\n",
              "        vertical-align: middle;\n",
              "    }\n",
              "\n",
              "    .dataframe tbody tr th {\n",
              "        vertical-align: top;\n",
              "    }\n",
              "\n",
              "    .dataframe thead th {\n",
              "        text-align: right;\n",
              "    }\n",
              "</style>\n",
              "<table border=\"1\" class=\"dataframe\">\n",
              "  <thead>\n",
              "    <tr style=\"text-align: right;\">\n",
              "      <th></th>\n",
              "      <th>unique</th>\n",
              "      <th>have_top_10</th>\n",
              "    </tr>\n",
              "    <tr>\n",
              "      <th>session_id</th>\n",
              "      <th></th>\n",
              "      <th></th>\n",
              "    </tr>\n",
              "  </thead>\n",
              "  <tbody>\n",
              "    <tr>\n",
              "      <th>21669</th>\n",
              "      <td>2</td>\n",
              "      <td>0</td>\n",
              "    </tr>\n",
              "    <tr>\n",
              "      <th>54843</th>\n",
              "      <td>2</td>\n",
              "      <td>0</td>\n",
              "    </tr>\n",
              "    <tr>\n",
              "      <th>77292</th>\n",
              "      <td>6</td>\n",
              "      <td>0</td>\n",
              "    </tr>\n",
              "  </tbody>\n",
              "</table>\n",
              "</div>"
            ],
            "text/plain": [
              "            unique  have_top_10\n",
              "session_id                     \n",
              "21669            2            0\n",
              "54843            2            0\n",
              "77292            6            0"
            ]
          },
          "metadata": {
            "tags": []
          },
          "execution_count": 26
        }
      ]
    },
    {
      "metadata": {
        "_uuid": "b6832892f8c8cf277902f111cbc178566d8fcd1d",
        "_cell_guid": "086ed9c5-a239-4b12-9157-94d1e298dedf",
        "id": "FKptgwzdOhW5",
        "colab_type": "text"
      },
      "cell_type": "markdown",
      "source": [
        "Count the number of absolutely unique sites in the session (the sites met only in this session)"
      ]
    },
    {
      "metadata": {
        "_uuid": "6eca9364113ec9f5cbf5ac3ae3adffd248ab2721",
        "_cell_guid": "73cc9995-c7d2-464d-957f-5de55a42f5b6",
        "ExecuteTime": {
          "start_time": "2018-03-30T18:49:49.526589Z",
          "end_time": "2018-03-30T18:49:53.043749Z"
        },
        "trusted": false,
        "id": "-T9jQtTCOhW6",
        "colab_type": "code",
        "colab": {
          "base_uri": "https://localhost:8080/",
          "height": 136
        },
        "outputId": "9028613a-f414-403a-d407-e346b550bd36"
      },
      "cell_type": "code",
      "source": [
        "absolutely_unique_count  =  np.zeros((full_sites.shape[0], 1 ), dtype = int ) \n",
        "ind  =  0 \n",
        "for  row  in  full_sites . values : \n",
        "    unique  =  np . unique ( row ) \n",
        "    absolutely_unic_row  =  {} \n",
        "    for  site_id  in  unique : \n",
        "        if (site_id !=0) and (site_dict[site_id] == 1) and (site_id not in absolutely_unic_row ): \n",
        "            absolutely_unique_count [ ind ]  +=  1 \n",
        "            absolutely_unic_row [ site_id ]  =  1 \n",
        "    ind  +=  1\n",
        "absolutely_unique_count"
      ],
      "execution_count": 27,
      "outputs": [
        {
          "output_type": "execute_result",
          "data": {
            "text/plain": [
              "array([[0],\n",
              "       [0],\n",
              "       [0],\n",
              "       ...,\n",
              "       [0],\n",
              "       [0],\n",
              "       [0]])"
            ]
          },
          "metadata": {
            "tags": []
          },
          "execution_count": 27
        }
      ]
    },
    {
      "metadata": {
        "_uuid": "69bacd20513d3e6dfe1b810e1368c36fa6a74662",
        "_cell_guid": "57f65d98-a535-401a-84fd-3dab53f75ec3",
        "ExecuteTime": {
          "start_time": "2018-03-30T18:49:53.044705Z",
          "end_time": "2018-03-30T18:49:53.052767Z"
        },
        "trusted": false,
        "id": "mTo_7O2KOhW-",
        "colab_type": "code",
        "colab": {}
      },
      "cell_type": "code",
      "source": [
        "additional_data_df['absolutely_unique_count'] = absolutely_unique_count"
      ],
      "execution_count": 0,
      "outputs": []
    },
    {
      "metadata": {
        "_uuid": "92879574134b093ef7e9a1bd4d375b303bf16b97",
        "_cell_guid": "a42b2d32-6d95-4568-8716-a50de69d1e5c",
        "id": "_0PScxCOOhXE",
        "colab_type": "text"
      },
      "cell_type": "markdown",
      "source": [
        "Make an indicator of the presence of an absolutely unique site in the session"
      ]
    },
    {
      "metadata": {
        "_uuid": "21d87740fc276f8bc95e86778d287c7aca067fe0",
        "_cell_guid": "22f430fd-1fea-494a-818c-21a9c4387111",
        "ExecuteTime": {
          "start_time": "2018-03-30T18:49:53.052767Z",
          "end_time": "2018-03-30T18:49:53.172705Z"
        },
        "trusted": false,
        "id": "IrWXygLnOhXF",
        "colab_type": "code",
        "colab": {}
      },
      "cell_type": "code",
      "source": [
        "absolutely_unique = (absolutely_unique_count > 0 ).astype(int)"
      ],
      "execution_count": 0,
      "outputs": []
    },
    {
      "metadata": {
        "_uuid": "3d1bfabe3e11c022021bc46c1e855ee3a1a5e8c0",
        "_cell_guid": "14ccb853-5e33-4b90-b9c2-8c3777fb76e1",
        "ExecuteTime": {
          "start_time": "2018-03-30T18:49:53.172705Z",
          "end_time": "2018-03-30T18:49:53.249194Z"
        },
        "trusted": false,
        "id": "k9stoa37OhXK",
        "colab_type": "code",
        "colab": {}
      },
      "cell_type": "code",
      "source": [
        "additional_data_df ['have_absolutely_unique' ] = absolutely_unique"
      ],
      "execution_count": 0,
      "outputs": []
    },
    {
      "metadata": {
        "_uuid": "34e6a9d1647a9d6fe26d7b3a21c660d00511c625",
        "_cell_guid": "9094dc2e-e71c-4956-93e3-951126896e04",
        "ExecuteTime": {
          "start_time": "2018-03-30T18:49:53.249194Z",
          "end_time": "2018-03-30T18:49:53.538479Z"
        },
        "trusted": false,
        "id": "Cc0uVJizOhXT",
        "colab_type": "code",
        "colab": {
          "base_uri": "https://localhost:8080/",
          "height": 378
        },
        "outputId": "9c197f91-aeb6-49f0-b7ce-ac5cd833799b"
      },
      "cell_type": "code",
      "source": [
        "sns.countplot(additional_data_df['absolutely_unique_count'])"
      ],
      "execution_count": 31,
      "outputs": [
        {
          "output_type": "execute_result",
          "data": {
            "text/plain": [
              "<matplotlib.axes._subplots.AxesSubplot at 0x7f01f1796cc0>"
            ]
          },
          "metadata": {
            "tags": []
          },
          "execution_count": 31
        },
        {
          "output_type": "display_data",
          "data": {
            "image/png": "[encoded data removed]",
            "text/plain": [
              "<Figure size 576x396 with 1 Axes>"
            ]
          },
          "metadata": {
            "tags": []
          }
        }
      ]
    },
    {
      "metadata": {
        "_uuid": "8a6f0d0e1397f2196f8ac499b2a385a38a812603",
        "_cell_guid": "5c3145e3-5b95-4ebe-acec-652098eddc0a",
        "id": "YQ7Ugp8zOhXY",
        "colab_type": "text"
      },
      "cell_type": "markdown",
      "source": [
        "### Work over time \n",
        "\n",
        "- We extract a table in which there will be only columns of time"
      ]
    },
    {
      "metadata": {
        "_uuid": "e521192fa55e8ac67ae2078fac05cb944a7b4c38",
        "_cell_guid": "2546b547-aa95-4064-b432-fb580bb22d3c",
        "ExecuteTime": {
          "start_time": "2018-03-30T18:49:53.538479Z",
          "end_time": "2018-03-30T18:49:53.566419Z"
        },
        "trusted": false,
        "id": "UvgXwD5zOhXZ",
        "colab_type": "code",
        "colab": {
          "base_uri": "https://localhost:8080/",
          "height": 173
        },
        "outputId": "decf241e-e44a-4b9b-ebca-d61f1e3a7f4d"
      },
      "cell_type": "code",
      "source": [
        "full_time  =  full_df[times] \n",
        "full_time.head(3)"
      ],
      "execution_count": 32,
      "outputs": [
        {
          "output_type": "execute_result",
          "data": {
            "text/html": [
              "<div>\n",
              "<style scoped>\n",
              "    .dataframe tbody tr th:only-of-type {\n",
              "        vertical-align: middle;\n",
              "    }\n",
              "\n",
              "    .dataframe tbody tr th {\n",
              "        vertical-align: top;\n",
              "    }\n",
              "\n",
              "    .dataframe thead th {\n",
              "        text-align: right;\n",
              "    }\n",
              "</style>\n",
              "<table border=\"1\" class=\"dataframe\">\n",
              "  <thead>\n",
              "    <tr style=\"text-align: right;\">\n",
              "      <th></th>\n",
              "      <th>time1</th>\n",
              "      <th>time2</th>\n",
              "      <th>time3</th>\n",
              "      <th>time4</th>\n",
              "      <th>time5</th>\n",
              "      <th>time6</th>\n",
              "      <th>time7</th>\n",
              "      <th>time8</th>\n",
              "      <th>time9</th>\n",
              "      <th>time10</th>\n",
              "    </tr>\n",
              "    <tr>\n",
              "      <th>session_id</th>\n",
              "      <th></th>\n",
              "      <th></th>\n",
              "      <th></th>\n",
              "      <th></th>\n",
              "      <th></th>\n",
              "      <th></th>\n",
              "      <th></th>\n",
              "      <th></th>\n",
              "      <th></th>\n",
              "      <th></th>\n",
              "    </tr>\n",
              "  </thead>\n",
              "  <tbody>\n",
              "    <tr>\n",
              "      <th>21669</th>\n",
              "      <td>2013-01-12 08:05:57</td>\n",
              "      <td>2013-01-12 08:05:57</td>\n",
              "      <td>NaT</td>\n",
              "      <td>NaT</td>\n",
              "      <td>NaT</td>\n",
              "      <td>NaT</td>\n",
              "      <td>NaT</td>\n",
              "      <td>NaT</td>\n",
              "      <td>NaT</td>\n",
              "      <td>NaT</td>\n",
              "    </tr>\n",
              "    <tr>\n",
              "      <th>54843</th>\n",
              "      <td>2013-01-12 08:37:23</td>\n",
              "      <td>2013-01-12 08:37:23</td>\n",
              "      <td>2013-01-12 09:07:07</td>\n",
              "      <td>2013-01-12 09:07:09</td>\n",
              "      <td>NaT</td>\n",
              "      <td>NaT</td>\n",
              "      <td>NaT</td>\n",
              "      <td>NaT</td>\n",
              "      <td>NaT</td>\n",
              "      <td>NaT</td>\n",
              "    </tr>\n",
              "    <tr>\n",
              "      <th>77292</th>\n",
              "      <td>2013-01-12 08:50:13</td>\n",
              "      <td>2013-01-12 08:50:14</td>\n",
              "      <td>2013-01-12 08:50:15</td>\n",
              "      <td>2013-01-12 08:50:15</td>\n",
              "      <td>2013-01-12 08:50:16</td>\n",
              "      <td>2013-01-12 08:50:16</td>\n",
              "      <td>2013-01-12 08:50:16</td>\n",
              "      <td>2013-01-12 08:50:16</td>\n",
              "      <td>2013-01-12 08:50:17</td>\n",
              "      <td>2013-01-12 08:50:17</td>\n",
              "    </tr>\n",
              "  </tbody>\n",
              "</table>\n",
              "</div>"
            ],
            "text/plain": [
              "                         time1               time2               time3  \\\n",
              "session_id                                                               \n",
              "21669      2013-01-12 08:05:57 2013-01-12 08:05:57                 NaT   \n",
              "54843      2013-01-12 08:37:23 2013-01-12 08:37:23 2013-01-12 09:07:07   \n",
              "77292      2013-01-12 08:50:13 2013-01-12 08:50:14 2013-01-12 08:50:15   \n",
              "\n",
              "                         time4               time5               time6  \\\n",
              "session_id                                                               \n",
              "21669                      NaT                 NaT                 NaT   \n",
              "54843      2013-01-12 09:07:09                 NaT                 NaT   \n",
              "77292      2013-01-12 08:50:15 2013-01-12 08:50:16 2013-01-12 08:50:16   \n",
              "\n",
              "                         time7               time8               time9  \\\n",
              "session_id                                                               \n",
              "21669                      NaT                 NaT                 NaT   \n",
              "54843                      NaT                 NaT                 NaT   \n",
              "77292      2013-01-12 08:50:16 2013-01-12 08:50:16 2013-01-12 08:50:17   \n",
              "\n",
              "                        time10  \n",
              "session_id                      \n",
              "21669                      NaT  \n",
              "54843                      NaT  \n",
              "77292      2013-01-12 08:50:17  "
            ]
          },
          "metadata": {
            "tags": []
          },
          "execution_count": 32
        }
      ]
    },
    {
      "metadata": {
        "_uuid": "a0ae4a8152e2bd4b0b464ee9af69ea59ab8c9204",
        "_cell_guid": "53f1dbf1-bacc-4373-a832-e59beaed4739",
        "id": "BbA7e2D5OhXf",
        "colab_type": "text"
      },
      "cell_type": "markdown",
      "source": [
        "**We calculate the time of staying on each site within one session**"
      ]
    },
    {
      "metadata": {
        "_uuid": "70f7e26a36b13be6e6055bc8259ce70e75e9b7d3",
        "_cell_guid": "248e5edf-d830-4db9-ae17-eb38fdd7ba04",
        "ExecuteTime": {
          "start_time": "2018-03-30T18:49:53.566419Z",
          "end_time": "2018-03-30T18:49:53.64642Z"
        },
        "trusted": false,
        "id": "2cJUSf3pOhXh",
        "colab_type": "code",
        "colab": {}
      },
      "cell_type": "code",
      "source": [
        "def  get_time_diff (row): \n",
        "    time_length = row.shape[0] - 1 \n",
        "    time_diff = [0]*time_length \n",
        "    i = 0 \n",
        "    while (i < time_length)and pd.notnull(row[i+1]): \n",
        "        time_diff[i] = (row[i+1] - row[i]) /np.timedelta64(1,'s') \n",
        "        i += 1 \n",
        "    return  time_diff"
      ],
      "execution_count": 0,
      "outputs": []
    },
    {
      "metadata": {
        "_uuid": "3c211565656ad5d67a9ddd8fbdb04883a93cba13",
        "_cell_guid": "ef9f44ec-246e-4c2d-81c2-97801feebf63",
        "ExecuteTime": {
          "start_time": "2018-03-30T18:49:53.64642Z",
          "end_time": "2018-03-30T18:50:14.240847Z"
        },
        "trusted": false,
        "id": "X0tlotPQOhXl",
        "colab_type": "code",
        "colab": {
          "base_uri": "https://localhost:8080/",
          "height": 51
        },
        "outputId": "239d2303-dc57-4403-af37-96f6fbacab49"
      },
      "cell_type": "code",
      "source": [
        "%%time\n",
        "time_diff = []\n",
        "for row in full_time.values:\n",
        "    time_diff.append (get_time_diff (row))\n",
        "time_diff = np.log1p(np.array(time_diff).astype(float))"
      ],
      "execution_count": 34,
      "outputs": [
        {
          "output_type": "stream",
          "text": [
            "CPU times: user 21.4 s, sys: 147 ms, total: 21.5 s\n",
            "Wall time: 21.6 s\n"
          ],
          "name": "stdout"
        }
      ]
    },
    {
      "metadata": {
        "_uuid": "8bd854f7c0547ce627e7fcb6e4c394b0e21872a6",
        "_cell_guid": "5f7cb235-0381-4f3a-be6d-7d3a49856460",
        "ExecuteTime": {
          "start_time": "2018-03-30T18:50:14.240847Z",
          "end_time": "2018-03-30T18:50:14.277145Z"
        },
        "trusted": false,
        "id": "Jvd_N_-aOhXs",
        "colab_type": "code",
        "colab": {}
      },
      "cell_type": "code",
      "source": [
        "## Appending The Newly Created Features\n",
        "time_names = ['time_diff'+str(j) for j in range(1,10)] \n",
        "for ind,column_name in enumerate(time_names): \n",
        "    additional_data_df[column_name] = time_diff[:,ind] "
      ],
      "execution_count": 0,
      "outputs": []
    },
    {
      "metadata": {
        "_uuid": "549ba53d094d88f334141b65491ee6561e312b86",
        "_cell_guid": "afb0af32-cf12-4f5b-a033-a286e905646d",
        "id": "FIP8CjyROhX2",
        "colab_type": "text"
      },
      "cell_type": "markdown",
      "source": [
        "**We will calculate the total time spent at each session**"
      ]
    },
    {
      "metadata": {
        "_uuid": "c0c62c011dd31a1477cfc10dc8fb765b49492277",
        "_cell_guid": "cb2bed4d-a1c2-47bf-a447-da0255d72da1",
        "ExecuteTime": {
          "start_time": "2018-03-30T18:50:14.277145Z",
          "end_time": "2018-03-30T18:50:14.383338Z"
        },
        "trusted": false,
        "id": "vi1mvoiPOhX3",
        "colab_type": "code",
        "colab": {}
      },
      "cell_type": "code",
      "source": [
        "def get_total_time(row): \n",
        "    time_length = row.shape[0] - 1 \n",
        "    i = time_length \n",
        "    while pd.isnull( row [ i ]): \n",
        "        i -= 1 \n",
        "    return (row[i] - row[0]) / np.timedelta64(1,'s')"
      ],
      "execution_count": 0,
      "outputs": []
    },
    {
      "metadata": {
        "_uuid": "e95379fa046b1b527c6fac23709e272d42122cc1",
        "_cell_guid": "69221fd7-0f49-4ced-8832-b1da141effe1",
        "ExecuteTime": {
          "start_time": "2018-03-30T18:50:14.395337Z",
          "end_time": "2018-03-30T18:50:16.900842Z"
        },
        "trusted": false,
        "id": "5TqqpNTNOhX9",
        "colab_type": "code",
        "colab": {
          "base_uri": "https://localhost:8080/",
          "height": 51
        },
        "outputId": "126e9acf-5219-437d-8aff-b4be7c87cc0d"
      },
      "cell_type": "code",
      "source": [
        "%%time\n",
        "total_time = []\n",
        "for row in full_time.values:\n",
        "    total_time.append(get_total_time(row))\n",
        "total_time = np.array(total_time).reshape(-1,1).astype(int)"
      ],
      "execution_count": 37,
      "outputs": [
        {
          "output_type": "stream",
          "text": [
            "CPU times: user 2.57 s, sys: 8.9 ms, total: 2.58 s\n",
            "Wall time: 2.58 s\n"
          ],
          "name": "stdout"
        }
      ]
    },
    {
      "metadata": {
        "_uuid": "ace884b4bbca683dcc99b42adb1d9a3eeb64e20a",
        "_cell_guid": "be531208-ea71-4ab3-91b8-ef6efaa05b64",
        "ExecuteTime": {
          "start_time": "2018-03-30T18:50:16.900842Z",
          "end_time": "2018-03-30T18:50:16.917084Z"
        },
        "trusted": false,
        "id": "zsDSwDmJOhYG",
        "colab_type": "code",
        "colab": {}
      },
      "cell_type": "code",
      "source": [
        "additional_data_df['total_time'] =  total_time \n",
        "additional_data_df['total_time'] =  np.log1p(additional_data_df['total_time'].values)"
      ],
      "execution_count": 0,
      "outputs": []
    },
    {
      "metadata": {
        "_uuid": "ed4410d4da96ffc72697441936722630bebca59d",
        "_cell_guid": "a002dd53-90e4-49bb-a0b5-33a1d16bda8f",
        "ExecuteTime": {
          "start_time": "2018-03-30T18:50:16.917084Z",
          "end_time": "2018-03-30T18:50:18.187469Z"
        },
        "trusted": false,
        "id": "cbUxJccMOhYK",
        "colab_type": "code",
        "colab": {}
      },
      "cell_type": "code",
      "source": [
        "additional_data_df['start_hour']  =  full_time['time1'].apply(lambda ts: ts.hour) \n",
        "additional_data_df['holiday']     = (full_time['time1'].dt.dayofweek >= 5).astype(int) \n",
        "additional_data_df['day_of_week'] = (full_time['time1'].dt.dayofweek).astype(int)"
      ],
      "execution_count": 0,
      "outputs": []
    },
    {
      "metadata": {
        "_uuid": "19b99b0afabe18fca68e276e008309a3b34b4d04",
        "_cell_guid": "238b6495-7fee-455c-abec-39731aaccf25",
        "ExecuteTime": {
          "start_time": "2018-03-30T18:50:18.187469Z",
          "end_time": "2018-03-30T18:50:18.210886Z"
        },
        "trusted": false,
        "id": "IAGqEQ9VOhYN",
        "colab_type": "code",
        "colab": {
          "base_uri": "https://localhost:8080/",
          "height": 255
        },
        "outputId": "6f59873c-4f01-4101-9ab4-51f329742b4f"
      },
      "cell_type": "code",
      "source": [
        "additional_data_df.head(5)"
      ],
      "execution_count": 40,
      "outputs": [
        {
          "output_type": "execute_result",
          "data": {
            "text/html": [
              "<div>\n",
              "<style scoped>\n",
              "    .dataframe tbody tr th:only-of-type {\n",
              "        vertical-align: middle;\n",
              "    }\n",
              "\n",
              "    .dataframe tbody tr th {\n",
              "        vertical-align: top;\n",
              "    }\n",
              "\n",
              "    .dataframe thead th {\n",
              "        text-align: right;\n",
              "    }\n",
              "</style>\n",
              "<table border=\"1\" class=\"dataframe\">\n",
              "  <thead>\n",
              "    <tr style=\"text-align: right;\">\n",
              "      <th></th>\n",
              "      <th>unique</th>\n",
              "      <th>have_top_10</th>\n",
              "      <th>absolutely_unique_count</th>\n",
              "      <th>have_absolutely_unique</th>\n",
              "      <th>time_diff1</th>\n",
              "      <th>time_diff2</th>\n",
              "      <th>time_diff3</th>\n",
              "      <th>time_diff4</th>\n",
              "      <th>time_diff5</th>\n",
              "      <th>time_diff6</th>\n",
              "      <th>time_diff7</th>\n",
              "      <th>time_diff8</th>\n",
              "      <th>time_diff9</th>\n",
              "      <th>total_time</th>\n",
              "      <th>start_hour</th>\n",
              "      <th>holiday</th>\n",
              "      <th>day_of_week</th>\n",
              "    </tr>\n",
              "    <tr>\n",
              "      <th>session_id</th>\n",
              "      <th></th>\n",
              "      <th></th>\n",
              "      <th></th>\n",
              "      <th></th>\n",
              "      <th></th>\n",
              "      <th></th>\n",
              "      <th></th>\n",
              "      <th></th>\n",
              "      <th></th>\n",
              "      <th></th>\n",
              "      <th></th>\n",
              "      <th></th>\n",
              "      <th></th>\n",
              "      <th></th>\n",
              "      <th></th>\n",
              "      <th></th>\n",
              "      <th></th>\n",
              "    </tr>\n",
              "  </thead>\n",
              "  <tbody>\n",
              "    <tr>\n",
              "      <th>21669</th>\n",
              "      <td>2</td>\n",
              "      <td>0</td>\n",
              "      <td>0</td>\n",
              "      <td>0</td>\n",
              "      <td>0.000000</td>\n",
              "      <td>0.000000</td>\n",
              "      <td>0.000000</td>\n",
              "      <td>0.000000</td>\n",
              "      <td>0.0</td>\n",
              "      <td>0.000000</td>\n",
              "      <td>0.000000</td>\n",
              "      <td>0.000000</td>\n",
              "      <td>0.000000</td>\n",
              "      <td>0.000000</td>\n",
              "      <td>8</td>\n",
              "      <td>1</td>\n",
              "      <td>5</td>\n",
              "    </tr>\n",
              "    <tr>\n",
              "      <th>54843</th>\n",
              "      <td>2</td>\n",
              "      <td>0</td>\n",
              "      <td>0</td>\n",
              "      <td>0</td>\n",
              "      <td>0.000000</td>\n",
              "      <td>7.487174</td>\n",
              "      <td>1.098612</td>\n",
              "      <td>0.000000</td>\n",
              "      <td>0.0</td>\n",
              "      <td>0.000000</td>\n",
              "      <td>0.000000</td>\n",
              "      <td>0.000000</td>\n",
              "      <td>0.000000</td>\n",
              "      <td>7.488294</td>\n",
              "      <td>8</td>\n",
              "      <td>1</td>\n",
              "      <td>5</td>\n",
              "    </tr>\n",
              "    <tr>\n",
              "      <th>77292</th>\n",
              "      <td>6</td>\n",
              "      <td>0</td>\n",
              "      <td>0</td>\n",
              "      <td>0</td>\n",
              "      <td>0.693147</td>\n",
              "      <td>0.693147</td>\n",
              "      <td>0.000000</td>\n",
              "      <td>0.693147</td>\n",
              "      <td>0.0</td>\n",
              "      <td>0.000000</td>\n",
              "      <td>0.000000</td>\n",
              "      <td>0.693147</td>\n",
              "      <td>0.000000</td>\n",
              "      <td>1.609438</td>\n",
              "      <td>8</td>\n",
              "      <td>1</td>\n",
              "      <td>5</td>\n",
              "    </tr>\n",
              "    <tr>\n",
              "      <th>114021</th>\n",
              "      <td>5</td>\n",
              "      <td>0</td>\n",
              "      <td>0</td>\n",
              "      <td>0</td>\n",
              "      <td>0.000000</td>\n",
              "      <td>0.693147</td>\n",
              "      <td>0.000000</td>\n",
              "      <td>0.000000</td>\n",
              "      <td>0.0</td>\n",
              "      <td>0.693147</td>\n",
              "      <td>0.000000</td>\n",
              "      <td>0.000000</td>\n",
              "      <td>0.693147</td>\n",
              "      <td>1.386294</td>\n",
              "      <td>8</td>\n",
              "      <td>1</td>\n",
              "      <td>5</td>\n",
              "    </tr>\n",
              "    <tr>\n",
              "      <th>146670</th>\n",
              "      <td>6</td>\n",
              "      <td>0</td>\n",
              "      <td>0</td>\n",
              "      <td>0</td>\n",
              "      <td>0.000000</td>\n",
              "      <td>0.000000</td>\n",
              "      <td>0.693147</td>\n",
              "      <td>0.000000</td>\n",
              "      <td>0.0</td>\n",
              "      <td>0.000000</td>\n",
              "      <td>0.693147</td>\n",
              "      <td>0.000000</td>\n",
              "      <td>0.000000</td>\n",
              "      <td>1.098612</td>\n",
              "      <td>8</td>\n",
              "      <td>1</td>\n",
              "      <td>5</td>\n",
              "    </tr>\n",
              "  </tbody>\n",
              "</table>\n",
              "</div>"
            ],
            "text/plain": [
              "            unique  have_top_10  absolutely_unique_count  \\\n",
              "session_id                                                 \n",
              "21669            2            0                        0   \n",
              "54843            2            0                        0   \n",
              "77292            6            0                        0   \n",
              "114021           5            0                        0   \n",
              "146670           6            0                        0   \n",
              "\n",
              "            have_absolutely_unique  time_diff1  time_diff2  time_diff3  \\\n",
              "session_id                                                               \n",
              "21669                            0    0.000000    0.000000    0.000000   \n",
              "54843                            0    0.000000    7.487174    1.098612   \n",
              "77292                            0    0.693147    0.693147    0.000000   \n",
              "114021                           0    0.000000    0.693147    0.000000   \n",
              "146670                           0    0.000000    0.000000    0.693147   \n",
              "\n",
              "            time_diff4  time_diff5  time_diff6  time_diff7  time_diff8  \\\n",
              "session_id                                                               \n",
              "21669         0.000000         0.0    0.000000    0.000000    0.000000   \n",
              "54843         0.000000         0.0    0.000000    0.000000    0.000000   \n",
              "77292         0.693147         0.0    0.000000    0.000000    0.693147   \n",
              "114021        0.000000         0.0    0.693147    0.000000    0.000000   \n",
              "146670        0.000000         0.0    0.000000    0.693147    0.000000   \n",
              "\n",
              "            time_diff9  total_time  start_hour  holiday  day_of_week  \n",
              "session_id                                                            \n",
              "21669         0.000000    0.000000           8        1            5  \n",
              "54843         0.000000    7.488294           8        1            5  \n",
              "77292         0.000000    1.609438           8        1            5  \n",
              "114021        0.693147    1.386294           8        1            5  \n",
              "146670        0.000000    1.098612           8        1            5  "
            ]
          },
          "metadata": {
            "tags": []
          },
          "execution_count": 40
        }
      ]
    },
    {
      "metadata": {
        "_uuid": "dafe7f340811298f4b6272d9581d4f2aa07efdbf",
        "_cell_guid": "6b72c67d-dbe0-442d-83b1-95ffec9ffe36",
        "ExecuteTime": {
          "start_time": "2018-03-30T18:50:18.210886Z",
          "end_time": "2018-03-30T18:50:18.3709Z"
        },
        "trusted": false,
        "id": "Op4uNLosOhYV",
        "colab_type": "code",
        "colab": {}
      },
      "cell_type": "code",
      "source": [
        "add_data_train = additional_data_df[: idx_split ].copy() \n",
        "add_data_test  = additional_data_df[ idx_split :]"
      ],
      "execution_count": 0,
      "outputs": []
    },
    {
      "metadata": {
        "_uuid": "ad5ac92c74b6e69bf209bc0bfa95514722cd50a2",
        "_cell_guid": "865e38d2-f8d2-4f04-b1c3-87ac06ae18d2",
        "id": "oLefNVN-OhYb",
        "colab_type": "text"
      },
      "cell_type": "markdown",
      "source": [
        "### Analysis of training and test samples "
      ]
    },
    {
      "metadata": {
        "_uuid": "e84d5d7ff2a17cef84825e41f4ac86750cb03c67",
        "_cell_guid": "d5469528-a6d9-470a-9cf3-8f5e88143e4b",
        "ExecuteTime": {
          "start_time": "2018-03-30T18:50:18.371553Z",
          "end_time": "2018-03-30T18:50:18.423616Z"
        },
        "trusted": false,
        "id": "tURWPvBuOhYc",
        "colab_type": "code",
        "colab": {}
      },
      "cell_type": "code",
      "source": [
        "add_data_train.loc[:, 'target' ]= y_train"
      ],
      "execution_count": 0,
      "outputs": []
    },
    {
      "metadata": {
        "_uuid": "3ceae66e1b68f012a518e1c9e181a53c27534a7e",
        "_cell_guid": "c2330d75-a81d-4ebd-9f0c-4db8eec34ace",
        "id": "5ZoGHnZOOhYj",
        "colab_type": "text"
      },
      "cell_type": "markdown",
      "source": [
        "**Let's see what signs we have**"
      ]
    },
    {
      "metadata": {
        "_uuid": "3aff4c7a0ae1111c4a83e63df0c324e21a3ce656",
        "_cell_guid": "2d092beb-201c-456b-bd3e-63fe58cbd5a2",
        "scrolled": true,
        "ExecuteTime": {
          "start_time": "2018-03-30T18:50:18.42408Z",
          "end_time": "2018-03-30T18:50:18.47304Z"
        },
        "trusted": false,
        "id": "BsCn9qMWOhYk",
        "colab_type": "code",
        "colab": {
          "base_uri": "https://localhost:8080/",
          "height": 607
        },
        "outputId": "a6c2becf-e96e-4604-8247-09b71ec0bf34"
      },
      "cell_type": "code",
      "source": [
        "dtype_df = add_data_train.dtypes.reset_index() \n",
        "dtype_df.columns = ['Column_name','Column_type'] \n",
        "dtype_df"
      ],
      "execution_count": 43,
      "outputs": [
        {
          "output_type": "execute_result",
          "data": {
            "text/html": [
              "<div>\n",
              "<style scoped>\n",
              "    .dataframe tbody tr th:only-of-type {\n",
              "        vertical-align: middle;\n",
              "    }\n",
              "\n",
              "    .dataframe tbody tr th {\n",
              "        vertical-align: top;\n",
              "    }\n",
              "\n",
              "    .dataframe thead th {\n",
              "        text-align: right;\n",
              "    }\n",
              "</style>\n",
              "<table border=\"1\" class=\"dataframe\">\n",
              "  <thead>\n",
              "    <tr style=\"text-align: right;\">\n",
              "      <th></th>\n",
              "      <th>Column_name</th>\n",
              "      <th>Column_type</th>\n",
              "    </tr>\n",
              "  </thead>\n",
              "  <tbody>\n",
              "    <tr>\n",
              "      <th>0</th>\n",
              "      <td>unique</td>\n",
              "      <td>int64</td>\n",
              "    </tr>\n",
              "    <tr>\n",
              "      <th>1</th>\n",
              "      <td>have_top_10</td>\n",
              "      <td>int64</td>\n",
              "    </tr>\n",
              "    <tr>\n",
              "      <th>2</th>\n",
              "      <td>absolutely_unique_count</td>\n",
              "      <td>int64</td>\n",
              "    </tr>\n",
              "    <tr>\n",
              "      <th>3</th>\n",
              "      <td>have_absolutely_unique</td>\n",
              "      <td>int64</td>\n",
              "    </tr>\n",
              "    <tr>\n",
              "      <th>4</th>\n",
              "      <td>time_diff1</td>\n",
              "      <td>float64</td>\n",
              "    </tr>\n",
              "    <tr>\n",
              "      <th>5</th>\n",
              "      <td>time_diff2</td>\n",
              "      <td>float64</td>\n",
              "    </tr>\n",
              "    <tr>\n",
              "      <th>6</th>\n",
              "      <td>time_diff3</td>\n",
              "      <td>float64</td>\n",
              "    </tr>\n",
              "    <tr>\n",
              "      <th>7</th>\n",
              "      <td>time_diff4</td>\n",
              "      <td>float64</td>\n",
              "    </tr>\n",
              "    <tr>\n",
              "      <th>8</th>\n",
              "      <td>time_diff5</td>\n",
              "      <td>float64</td>\n",
              "    </tr>\n",
              "    <tr>\n",
              "      <th>9</th>\n",
              "      <td>time_diff6</td>\n",
              "      <td>float64</td>\n",
              "    </tr>\n",
              "    <tr>\n",
              "      <th>10</th>\n",
              "      <td>time_diff7</td>\n",
              "      <td>float64</td>\n",
              "    </tr>\n",
              "    <tr>\n",
              "      <th>11</th>\n",
              "      <td>time_diff8</td>\n",
              "      <td>float64</td>\n",
              "    </tr>\n",
              "    <tr>\n",
              "      <th>12</th>\n",
              "      <td>time_diff9</td>\n",
              "      <td>float64</td>\n",
              "    </tr>\n",
              "    <tr>\n",
              "      <th>13</th>\n",
              "      <td>total_time</td>\n",
              "      <td>float64</td>\n",
              "    </tr>\n",
              "    <tr>\n",
              "      <th>14</th>\n",
              "      <td>start_hour</td>\n",
              "      <td>int64</td>\n",
              "    </tr>\n",
              "    <tr>\n",
              "      <th>15</th>\n",
              "      <td>holiday</td>\n",
              "      <td>int64</td>\n",
              "    </tr>\n",
              "    <tr>\n",
              "      <th>16</th>\n",
              "      <td>day_of_week</td>\n",
              "      <td>int64</td>\n",
              "    </tr>\n",
              "    <tr>\n",
              "      <th>17</th>\n",
              "      <td>target</td>\n",
              "      <td>int64</td>\n",
              "    </tr>\n",
              "  </tbody>\n",
              "</table>\n",
              "</div>"
            ],
            "text/plain": [
              "                Column_name Column_type\n",
              "0                    unique       int64\n",
              "1               have_top_10       int64\n",
              "2   absolutely_unique_count       int64\n",
              "3    have_absolutely_unique       int64\n",
              "4                time_diff1     float64\n",
              "5                time_diff2     float64\n",
              "6                time_diff3     float64\n",
              "7                time_diff4     float64\n",
              "8                time_diff5     float64\n",
              "9                time_diff6     float64\n",
              "10               time_diff7     float64\n",
              "11               time_diff8     float64\n",
              "12               time_diff9     float64\n",
              "13               total_time     float64\n",
              "14               start_hour       int64\n",
              "15                  holiday       int64\n",
              "16              day_of_week       int64\n",
              "17                   target       int64"
            ]
          },
          "metadata": {
            "tags": []
          },
          "execution_count": 43
        }
      ]
    },
    {
      "metadata": {
        "_uuid": "9ea68da42de558bda748c6e0728871a7ee2a13c3",
        "_cell_guid": "497f9cf2-15f6-45a4-b3a6-a32c867a4158",
        "ExecuteTime": {
          "start_time": "2018-03-29T04:10:42.918824Z",
          "end_time": "2018-03-29T04:10:43.110884Z"
        },
        "trusted": false,
        "id": "4zIzNkOHOhYp",
        "colab_type": "code",
        "colab": {
          "base_uri": "https://localhost:8080/",
          "height": 429
        },
        "outputId": "17f1def4-95f5-489d-f176-9c4d0d0b1d80"
      },
      "cell_type": "code",
      "source": [
        "sns.countplot(add_data_train['target']) ;plt.legend();\n",
        "print(add_data_train['target'].value_counts())"
      ],
      "execution_count": 44,
      "outputs": [
        {
          "output_type": "stream",
          "text": [
            "No handles with labels found to put in legend.\n"
          ],
          "name": "stderr"
        },
        {
          "output_type": "stream",
          "text": [
            "0    251264\n",
            "1      2297\n",
            "Name: target, dtype: int64\n"
          ],
          "name": "stdout"
        },
        {
          "output_type": "display_data",
          "data": {
            "image/png": "[encoded data removed]",
            "text/plain": [
              "<Figure size 576x396 with 1 Axes>"
            ]
          },
          "metadata": {
            "tags": []
          }
        }
      ]
    },
    {
      "metadata": {
        "_uuid": "2db4b06ce813a2e9b370eb70d7315d8cce373ec6",
        "_cell_guid": "c1e6ff3e-ea65-4551-8a6d-aa2cb82da94c",
        "id": "npejfWXPOhYs",
        "colab_type": "text"
      },
      "cell_type": "markdown",
      "source": [
        "**All characteristics are of type int, but they can be divided into two groups-**\n",
        "- **categorical **\n",
        "\n",
        "- ** quantitative.**"
      ]
    },
    {
      "metadata": {
        "_uuid": "67c44ae8555420d34cb2921431d86febbb5675ae",
        "_cell_guid": "ab1cbfb0-2528-4ed5-80bd-f053146d14a4",
        "trusted": false,
        "id": "RW62MrIEOhYt",
        "colab_type": "code",
        "colab": {
          "base_uri": "https://localhost:8080/",
          "height": 475
        },
        "outputId": "705815b4-746a-41a4-aa07-e4d1c69af53f"
      },
      "cell_type": "code",
      "source": [
        "plt.figure(figsize=(9,7))\n",
        "add_data_train['target'].value_counts().plot(kind = 'bar', label = 'Intruder')\n",
        "plt.legend()\n",
        "print(add_data_train['target'].value_counts())"
      ],
      "execution_count": 45,
      "outputs": [
        {
          "output_type": "stream",
          "text": [
            "0    251264\n",
            "1      2297\n",
            "Name: target, dtype: int64\n"
          ],
          "name": "stdout"
        },
        {
          "output_type": "display_data",
          "data": {
            "image/png": "[encoded data removed]",
            "text/plain": [
              "<Figure size 648x504 with 1 Axes>"
            ]
          },
          "metadata": {
            "tags": []
          }
        }
      ]
    },
    {
      "metadata": {
        "_uuid": "659758908dca414fff678bee28411100f89093b7",
        "_cell_guid": "5c0e75fb-2972-49ef-beeb-2aa6c8a51b5b",
        "id": "-wYkHDTJOhYx",
        "colab_type": "text"
      },
      "cell_type": "markdown",
      "source": [
        "**As you can see, we have two unbalanced classes**"
      ]
    },
    {
      "metadata": {
        "_uuid": "4a27b139b72a5da720f14cd30b2d840170ce49df",
        "_cell_guid": "0b69dc60-a0e5-47a6-a885-1dd3d58a03d4",
        "id": "MphH8fChOhYy",
        "colab_type": "text"
      },
      "cell_type": "markdown",
      "source": [
        "**Let's look at the correlation table of the dataset**"
      ]
    },
    {
      "metadata": {
        "_uuid": "cf2cd4bccd454f6b6dfc2a2bb43d26a6cff6a150",
        "_cell_guid": "341a3019-2b88-4bfa-b3b5-5b5d459db5f6",
        "ExecuteTime": {
          "start_time": "2018-03-29T04:10:43.110884Z",
          "end_time": "2018-03-29T04:10:44.270139Z"
        },
        "trusted": false,
        "id": "EYNO6bD0OhYz",
        "colab_type": "code",
        "colab": {
          "base_uri": "https://localhost:8080/",
          "height": 746
        },
        "outputId": "5e002a85-8694-4bc1-8d49-fee4e39f5371"
      },
      "cell_type": "code",
      "source": [
        "corr = add_data_train.corr('spearman') \n",
        "plt.figure(figsize = ( 16 , 11 )) \n",
        "sns.heatmap(corr,annot=True,fmt='.2f',cmap=\"YlGnBu\");"
      ],
      "execution_count": 46,
      "outputs": [
        {
          "output_type": "display_data",
          "data": {
            "image/png": "[encoded data removed]",
            "text/plain": [
              "<Figure size 1152x792 with 2 Axes>"
            ]
          },
          "metadata": {
            "tags": []
          }
        }
      ]
    },
    {
      "metadata": {
        "_uuid": "0852c9447ff5f621e9ef980b4519ff9ed6beae63",
        "_cell_guid": "47355c48-8b19-4845-8954-85490cf4e44b",
        "id": "puzADnbjOhY2",
        "colab_type": "text"
      },
      "cell_type": "markdown",
      "source": [
        "**Let's look at the distribution of some features**"
      ]
    },
    {
      "metadata": {
        "_uuid": "321520a1a66401dd14237dee4cb7ff6fc86262e9",
        "_cell_guid": "5f4c3b3a-2dc6-47bb-9aa9-adcfcaa1a092",
        "scrolled": false,
        "ExecuteTime": {
          "start_time": "2018-03-29T04:10:44.270139Z",
          "end_time": "2018-03-29T04:10:45.441274Z"
        },
        "trusted": false,
        "id": "zxnqzZDUOhY3",
        "colab_type": "code",
        "colab": {
          "base_uri": "https://localhost:8080/",
          "height": 1689
        },
        "outputId": "3b310c29-ee87-46f9-df5d-aec5e5fa89af"
      },
      "cell_type": "code",
      "source": [
        "feature_list = ['unique','absolutely_unique_count','start_hour','day_of_week'] \n",
        "for  column_name in feature_list: \n",
        "    fig , (ax1,ax2) = plt.subplots(1,2,figsize = ( 15 , 6 )) \n",
        "    fig.suptitle(column_name,fontsize=16) \n",
        "    sns.countplot(add_data_train[column_name],ax=ax1) \n",
        "    ax1.set_title(\"Train distribution\") \n",
        "    for tick in ax1.get_xticklabels(): \n",
        "        tick.set_rotation(45)\n",
        "    sns.countplot(add_data_test[column_name],ax=ax2) \n",
        "    ax2.set_title(\"Test distribution\") \n",
        "    for tick in ax2.get_xticklabels(): \n",
        "        tick.set_rotation(45)"
      ],
      "execution_count": 47,
      "outputs": [
        {
          "output_type": "display_data",
          "data": {
            "image/png": "[encoded data removed]",
            "text/plain": [
              "<Figure size 1080x432 with 2 Axes>"
            ]
          },
          "metadata": {
            "tags": []
          }
        },
        {
          "output_type": "display_data",
          "data": {
            "image/png": "[encoded data removed]",
            "text/plain": [
              "<Figure size 1080x432 with 2 Axes>"
            ]
          },
          "metadata": {
            "tags": []
          }
        },
        {
          "output_type": "display_data",
          "data": {
            "image/png": "[encoded data removed]",
            "text/plain": [
              "<Figure size 1080x432 with 2 Axes>"
            ]
          },
          "metadata": {
            "tags": []
          }
        },
        {
          "output_type": "display_data",
          "data": {
            "image/png": "[encoded data removed]",
            "text/plain": [
              "<Figure size 1080x432 with 2 Axes>"
            ]
          },
          "metadata": {
            "tags": []
          }
        }
      ]
    },
    {
      "metadata": {
        "_uuid": "bb0d12f119fe25dfe21523577e474d374982c322",
        "_cell_guid": "c05e5158-eed7-4fe3-a988-b343064e6e3e",
        "id": "VWDKg9YBOhY7",
        "colab_type": "text"
      },
      "cell_type": "markdown",
      "source": [
        "- As you can see, all the attributes are distributed approximately equally in the training and test sample. \n",
        "\n",
        "- The start_hour attribute is distributed from 7 to 23 hours, and not from 0 to 23 hours, as expected.\n",
        "\n",
        "- We will analyze the effect of the characteristics on the target variable"
      ]
    },
    {
      "metadata": {
        "_uuid": "69311733d1739f0212d5b631cddfd80dbd831fca",
        "_cell_guid": "59950326-fa93-4e75-92b4-a243d0c8bf02",
        "ExecuteTime": {
          "start_time": "2018-03-29T04:10:45.441274Z",
          "end_time": "2018-03-29T04:10:45.457274Z"
        },
        "trusted": false,
        "id": "cFvru6jKOhY-",
        "colab_type": "code",
        "colab": {}
      },
      "cell_type": "code",
      "source": [
        "def get_target_dist( column_name ): \n",
        "    fig , (ax1,ax2) = plt.subplots(1,2,figsize = (15,6)) \n",
        "    fig.suptitle(column_name,fontsize=16) \n",
        "    sns.countplot(add_data_train[add_data_train['target'] == 1][column_name],ax=ax1) \n",
        "    ax1.set_title(\"Intruder count (target: 1)\") \n",
        "    for tick in ax1.get_xticklabels(): \n",
        "        tick.set_rotation(45)\n",
        "    sns.barplot(x=column_name,y=\"target\",data=add_data_train,ax=ax2) \n",
        "    ax2.set_title(\"Intruder proportion (target: 1)\") \n",
        "    for tick in ax2.get_xticklabels(): \n",
        "        tick.set_rotation(45)"
      ],
      "execution_count": 0,
      "outputs": []
    },
    {
      "metadata": {
        "_uuid": "bdd0d497d29e56f0f516824a1c36ee06148a4fea",
        "_cell_guid": "281a1cb7-94bd-47e9-b754-27f33219be7f",
        "ExecuteTime": {
          "start_time": "2018-03-29T04:10:45.457274Z",
          "end_time": "2018-03-29T04:10:49.472264Z"
        },
        "trusted": false,
        "id": "-2tzVkTMOhZB",
        "colab_type": "code",
        "colab": {
          "base_uri": "https://localhost:8080/",
          "height": 436
        },
        "outputId": "55e37c8f-e4ce-4ede-81c7-0f21e7a29b7a"
      },
      "cell_type": "code",
      "source": [
        "get_target_dist('start_hour')"
      ],
      "execution_count": 49,
      "outputs": [
        {
          "output_type": "display_data",
          "data": {
            "image/png": "[encoded data removed]",
            "text/plain": [
              "<Figure size 1080x432 with 2 Axes>"
            ]
          },
          "metadata": {
            "tags": []
          }
        }
      ]
    },
    {
      "metadata": {
        "_uuid": "53aa6432a5e55ac9865e3cd4e43428af9977d76c",
        "_cell_guid": "a4274e5b-87ef-4b64-93a5-f794ed51e964",
        "id": "xHSy2zBoOhZE",
        "colab_type": "text"
      },
      "cell_type": "markdown",
      "source": [
        "Frauds were recorded between 9 and 18 hours, with the period from 16 to 18 hours most saturated with suspicious activity. On the basis of this, we will distinguish 3 features:\n",
        "\n",
        "- morning: 7 - 11\n",
        "- midday: 12 - 15\n",
        "- evening: 16 - 20"
      ]
    },
    {
      "metadata": {
        "_uuid": "eb091123b14494916d3d94ac6e902ce07bd1dc86",
        "_cell_guid": "369a8ba3-947f-4a6f-b7ce-aef30a04ea17",
        "ExecuteTime": {
          "start_time": "2018-03-29T04:10:49.472264Z",
          "end_time": "2018-03-29T04:10:50.256641Z"
        },
        "trusted": false,
        "id": "J6n9iwMuOhZF",
        "colab_type": "code",
        "colab": {}
      },
      "cell_type": "code",
      "source": [
        "add_data_train ['morning']  = add_data_train['start_hour'].apply(lambda hour:int(hour >= 7 and hour <= 11 )) \n",
        "add_data_train ['midday']   = add_data_train['start_hour'].apply(lambda hour:int(hour >= 12 and hour <= 18)) \n",
        "add_data_train ['evening']  = add_data_train['start_hour'].apply(lambda hour:int(hour >= 19 and hour <= 23))\n",
        "add_data_train ['night']    = add_data_train['start_hour'].apply(lambda hour:int(hour >= 0 and hour <= 6))\n",
        "\n",
        "add_data_test ['morning']  = add_data_test['start_hour'].apply(lambda hour:int(hour >= 7 and hour <= 12 )) \n",
        "add_data_test ['midday']   = add_data_test['start_hour'].apply(lambda hour:int(hour >= 12 and hour <= 18)) \n",
        "add_data_test ['evening']  = add_data_test['start_hour'].apply(lambda hour:int(hour >= 19 and hour <= 23))\n",
        "add_data_test ['night']    = add_data_test['start_hour'].apply(lambda hour:int(hour >= 0 and hour <= 6))"
      ],
      "execution_count": 0,
      "outputs": []
    },
    {
      "metadata": {
        "_uuid": "12198125c5421c6ff84979193e3972470e515c73",
        "_cell_guid": "910a653f-10b2-4417-889b-49db55a87485",
        "trusted": false,
        "id": "I5n_1Z6bOhZM",
        "colab_type": "code",
        "colab": {
          "base_uri": "https://localhost:8080/",
          "height": 436
        },
        "outputId": "227dc780-6443-4111-f209-32b5f0c9347d"
      },
      "cell_type": "code",
      "source": [
        "get_target_dist('unique')"
      ],
      "execution_count": 51,
      "outputs": [
        {
          "output_type": "display_data",
          "data": {
            "image/png": "[encoded data removed]",
            "text/plain": [
              "<Figure size 1080x432 with 2 Axes>"
            ]
          },
          "metadata": {
            "tags": []
          }
        }
      ]
    },
    {
      "metadata": {
        "_uuid": "624b8f7db1bc960f7ac961c9a6841fefa302a5a0",
        "_cell_guid": "5cf95d49-c1f4-4e1a-a6f4-c0fe83b569c4",
        "trusted": false,
        "id": "IGJV0W0HOhZP",
        "colab_type": "code",
        "colab": {
          "base_uri": "https://localhost:8080/",
          "height": 432
        },
        "outputId": "7e59c91b-6360-453b-fb8d-548a6a2058fa"
      },
      "cell_type": "code",
      "source": [
        "get_target_dist('day_of_week')"
      ],
      "execution_count": 52,
      "outputs": [
        {
          "output_type": "display_data",
          "data": {
            "image/png": "[encoded data removed]",
            "text/plain": [
              "<Figure size 1080x432 with 2 Axes>"
            ]
          },
          "metadata": {
            "tags": []
          }
        }
      ]
    },
    {
      "metadata": {
        "_uuid": "4ef6eebcc7529b998472b9912e6461e66c680208",
        "_cell_guid": "ce991072-fd5e-4858-8eb3-578e12c8e460",
        "id": "GRhsu48tOhZS",
        "colab_type": "text"
      },
      "cell_type": "markdown",
      "source": [
        "**The least suspicious activity was on Wednesdays, Saturdays and Sundays. But on Mondays(0), on the contrary, more than on other days.**"
      ]
    },
    {
      "metadata": {
        "_uuid": "f9310bd7cf15c90f2a8f61feb4ca8192888a11e3",
        "_cell_guid": "a11426b4-5f9c-40fb-81fd-2f7cfad04456",
        "trusted": false,
        "id": "SPrUh9DkOhZT",
        "colab_type": "code",
        "colab": {
          "base_uri": "https://localhost:8080/",
          "height": 436
        },
        "outputId": "69fa24dd-15db-4711-8bbb-7d0d13c5644f"
      },
      "cell_type": "code",
      "source": [
        "get_target_dist('absolutely_unique_count')"
      ],
      "execution_count": 53,
      "outputs": [
        {
          "output_type": "display_data",
          "data": {
            "image/png": "[encoded data removed]",
            "text/plain": [
              "<Figure size 1080x432 with 2 Axes>"
            ]
          },
          "metadata": {
            "tags": []
          }
        }
      ]
    },
    {
      "metadata": {
        "_uuid": "462af94b766f58ece2569e82577ca633b38e4d95",
        "_cell_guid": "de199575-2832-4252-ae5e-5ef114ed2cd5",
        "trusted": false,
        "id": "WSEBIoEnOhZV",
        "colab_type": "code",
        "colab": {
          "base_uri": "https://localhost:8080/",
          "height": 681
        },
        "outputId": "dad94a2e-dd6c-46d8-dd75-f16dc09f91a1"
      },
      "cell_type": "code",
      "source": [
        "feature_list = ['have_top_10', 'have_absolutely_unique']\n",
        "for column_name in feature_list:\n",
        "    plt.figure(figsize=(7, 5))\n",
        "    ax = sns.barplot(x=column_name, y=\"target\", data=add_data_train)\n",
        "    ax.set(ylabel='Target 1 proportion')\n",
        "    plt.title(column_name)\n",
        "    plt.show()"
      ],
      "execution_count": 54,
      "outputs": [
        {
          "output_type": "display_data",
          "data": {
            "image/png": "[encoded data removed]",
            "text/plain": [
              "<Figure size 504x360 with 1 Axes>"
            ]
          },
          "metadata": {
            "tags": []
          }
        },
        {
          "output_type": "display_data",
          "data": {
            "image/png": "[encoded data removed]",
            "text/plain": [
              "<Figure size 504x360 with 1 Axes>"
            ]
          },
          "metadata": {
            "tags": []
          }
        }
      ]
    },
    {
      "metadata": {
        "_uuid": "d3ee1e3327bb44416fb11b8c2c05bf06206716fb",
        "_cell_guid": "b48257df-f907-4b6d-88dc-7a70c9649e0b",
        "trusted": false,
        "id": "T9XwvrfxOhZa",
        "colab_type": "code",
        "colab": {
          "base_uri": "https://localhost:8080/",
          "height": 361
        },
        "outputId": "bf071597-dc0e-42e2-e0f1-ad6223eb6371"
      },
      "cell_type": "code",
      "source": [
        "ax = sns.boxplot(x = 'target', y = 'total_time', data = add_data_train)"
      ],
      "execution_count": 55,
      "outputs": [
        {
          "output_type": "display_data",
          "data": {
            "image/png": "[encoded data removed]",
            "text/plain": [
              "<Figure size 576x396 with 1 Axes>"
            ]
          },
          "metadata": {
            "tags": []
          }
        }
      ]
    },
    {
      "metadata": {
        "_uuid": "5a0bc33430b0b225978429790685b7f84e3ed76a",
        "_cell_guid": "ef14d282-3f03-4328-97d0-e9085dd56d85",
        "id": "Gebr8FTFOhZf",
        "colab_type": "text"
      },
      "cell_type": "markdown",
      "source": [
        "The duration of sessions with suspicious activity is on average less than that of the usual ones.\n",
        "\n",
        "**General observations:**\n",
        "\n",
        "- Most often, suspicious activity was seen between 16 and 18 hours\n",
        "- Also on Mondays, suspicious activity occurs most often\n",
        "- On average, the duration of sessions with suspicious activity is less than that of conventional\n",
        "- Suspicious sessions are less common absolutely unique sites (sites that occur only once in the history of visiting sites)"
      ]
    },
    {
      "metadata": {
        "_uuid": "71ffbefa341e97a1784829b809876f2250dec2de",
        "_cell_guid": "09943153-2493-40bf-8074-e081e14eeaab",
        "id": "1GRjq3Q6OhZh",
        "colab_type": "text"
      },
      "cell_type": "markdown",
      "source": [
        " Adding Cyclic Co-ordinates"
      ]
    },
    {
      "metadata": {
        "_uuid": "7518ab76c771988a50788eff1207d5f881e4d222",
        "_cell_guid": "df4153a7-ea91-45a1-9d2f-9da5c43bc45c",
        "ExecuteTime": {
          "start_time": "2018-03-29T04:10:50.256641Z",
          "end_time": "2018-03-29T04:10:51.319104Z"
        },
        "trusted": false,
        "id": "YgZBgaqLOhZi",
        "colab_type": "code",
        "colab": {}
      },
      "cell_type": "code",
      "source": [
        "pi = np.pi\n",
        "add_data_train['hour_sin_x'] = add_data_train['start_hour'].apply(lambda ts: np.sin(2*pi*ts/24.))\n",
        "add_data_train['hour_cos_x'] = add_data_train['start_hour'].apply(lambda ts: np.cos(2*pi*ts/24.))\n",
        "\n",
        "add_data_test['hour_sin_x'] = add_data_test['start_hour'].apply(lambda ts: np.sin(2*pi*ts/24.))\n",
        "add_data_test['hour_cos_x'] = add_data_test['start_hour'].apply(lambda ts: np.cos(2*pi*ts/24.))"
      ],
      "execution_count": 0,
      "outputs": []
    },
    {
      "metadata": {
        "_uuid": "cdc0ceccd8742ebf1aa230147a7bf4beda6c987f",
        "_cell_guid": "a276ec60-4886-48fa-87e6-82dfa3e89236",
        "trusted": false,
        "id": "SZdRfkV0OhZl",
        "colab_type": "code",
        "colab": {}
      },
      "cell_type": "code",
      "source": [
        "def kmeansshow(k,X):\n",
        "\n",
        "    from sklearn import cluster\n",
        "    from matplotlib import pyplot\n",
        "\n",
        "    kmeans = cluster.KMeans(n_clusters=k)\n",
        "    kmeans.fit(X)\n",
        "    labels = kmeans.labels_\n",
        "    centroids = kmeans.cluster_centers_\n",
        "    #print centroids\n",
        "\n",
        "    for i in range(k):\n",
        "        # select only data observations with cluster label == i\n",
        "        ds = X[np.where(labels==i)]\n",
        "        # plot the data observations\n",
        "        pyplot.plot(ds[:,0],ds[:,1],'o')\n",
        "        # plot the centroids\n",
        "        lines = pyplot.plot(centroids[i,0],centroids[i,1],'kx')\n",
        "        # make the centroid x's bigger\n",
        "        pyplot.setp(lines,ms=15.0)\n",
        "        pyplot.setp(lines,mew=2.0)\n",
        "    pyplot.legend()\n",
        "    pyplot.show()\n",
        "    return centroids\n"
      ],
      "execution_count": 0,
      "outputs": []
    },
    {
      "metadata": {
        "_uuid": "adc235ccd2cf532027f8cfe0cb057a07eb173da2",
        "_cell_guid": "4ae88b8b-8bf0-42d4-8e5c-28ce9f2df4d4",
        "trusted": false,
        "id": "-fbgAEY4OhZr",
        "colab_type": "code",
        "colab": {
          "base_uri": "https://localhost:8080/",
          "height": 813
        },
        "outputId": "9ff899ee-4b2a-4421-cc9b-22f38984e95e"
      },
      "cell_type": "code",
      "source": [
        "kmeansshow(3,add_data_train[['hour_sin_x', 'hour_cos_x']].values)\n",
        "kmeansshow(6,add_data_train[['hour_sin_x', 'hour_cos_x']].values)"
      ],
      "execution_count": 58,
      "outputs": [
        {
          "output_type": "stream",
          "text": [
            "No handles with labels found to put in legend.\n"
          ],
          "name": "stderr"
        },
        {
          "output_type": "display_data",
          "data": {
            "image/png": "[encoded data removed]",
            "text/plain": [
              "<Figure size 576x396 with 1 Axes>"
            ]
          },
          "metadata": {
            "tags": []
          }
        },
        {
          "output_type": "stream",
          "text": [
            "No handles with labels found to put in legend.\n"
          ],
          "name": "stderr"
        },
        {
          "output_type": "display_data",
          "data": {
            "image/png": "[encoded data removed]",
            "text/plain": [
              "<Figure size 576x396 with 1 Axes>"
            ]
          },
          "metadata": {
            "tags": []
          }
        },
        {
          "output_type": "execute_result",
          "data": {
            "text/plain": [
              "array([[ 0.38479246, -0.91374593],\n",
              "       [-0.91688833, -0.35780157],\n",
              "       [ 0.7788177 , -0.61299253],\n",
              "       [-0.59156603, -0.79576432],\n",
              "       [-0.66369218,  0.65756893],\n",
              "       [-0.14602439, -0.98077552]])"
            ]
          },
          "metadata": {
            "tags": []
          },
          "execution_count": 58
        }
      ]
    },
    {
      "metadata": {
        "_uuid": "f66ed0434ca9e7d1f65831f7422827e278978a91",
        "_cell_guid": "48bf34ae-a657-4f0b-94cb-390aff916466",
        "trusted": false,
        "id": "HAMAZ0IDOhZu",
        "colab_type": "code",
        "colab": {
          "base_uri": "https://localhost:8080/",
          "height": 813
        },
        "outputId": "af8b49ca-a746-4971-a532-4f4393f30705"
      },
      "cell_type": "code",
      "source": [
        "kmeansshow(3,add_data_test[['hour_sin_x', 'hour_cos_x']].values)\n",
        "kmeansshow(6,add_data_test[['hour_sin_x', 'hour_cos_x']].values)"
      ],
      "execution_count": 59,
      "outputs": [
        {
          "output_type": "stream",
          "text": [
            "No handles with labels found to put in legend.\n"
          ],
          "name": "stderr"
        },
        {
          "output_type": "display_data",
          "data": {
            "image/png": "[encoded data removed]",
            "text/plain": [
              "<Figure size 576x396 with 1 Axes>"
            ]
          },
          "metadata": {
            "tags": []
          }
        },
        {
          "output_type": "stream",
          "text": [
            "No handles with labels found to put in legend.\n"
          ],
          "name": "stderr"
        },
        {
          "output_type": "display_data",
          "data": {
            "image/png": "[encoded data removed]",
            "text/plain": [
              "<Figure size 576x396 with 1 Axes>"
            ]
          },
          "metadata": {
            "tags": []
          }
        },
        {
          "output_type": "execute_result",
          "data": {
            "text/plain": [
              "array([[-0.97554432, -0.18575936],\n",
              "       [ 0.30841467, -0.93132168],\n",
              "       [-0.77976225, -0.61242032],\n",
              "       [ 0.77500356, -0.61679406],\n",
              "       [-0.39156055, -0.91094249],\n",
              "       [-0.77362894,  0.54194207]])"
            ]
          },
          "metadata": {
            "tags": []
          },
          "execution_count": 59
        }
      ]
    },
    {
      "metadata": {
        "_uuid": "3017c8d2998ef23ff8d55b6c0257bf28d70bd4e6",
        "_cell_guid": "c8d3e612-20d9-4ea1-9b43-2f0e557d1b51",
        "id": "1Vj4FCA1OhZ2",
        "colab_type": "text"
      },
      "cell_type": "markdown",
      "source": [
        "### Preprocessing data \n",
        "- Convert categorical variables to dummies using get_dummies"
      ]
    },
    {
      "metadata": {
        "_uuid": "41de2a668b26f35f72083a9d5f62242864868a0a",
        "_cell_guid": "b92f676d-2f9c-4e6c-b892-0e03c8b07d9c",
        "ExecuteTime": {
          "start_time": "2018-03-29T04:11:15.461955Z",
          "end_time": "2018-03-29T04:11:15.661951Z"
        },
        "trusted": false,
        "id": "wgtOxD9qOhZ3",
        "colab_type": "code",
        "colab": {}
      },
      "cell_type": "code",
      "source": [
        "add_train_dummies  = pd.get_dummies(add_data_train , columns=['day_of_week']) \n",
        "add_train_dummies.drop(['target'],axis = 1,inplace=True) \n",
        "add_test_dummies  = pd.get_dummies(add_data_test,columns=['day_of_week'])"
      ],
      "execution_count": 0,
      "outputs": []
    },
    {
      "metadata": {
        "_uuid": "acf8894fe458b65ca4652677efd83f27352a30db",
        "_cell_guid": "d3720f55-2f93-466d-81ac-7a159bd45059",
        "ExecuteTime": {
          "start_time": "2018-03-29T09:44:42.37923Z",
          "end_time": "2018-03-29T09:44:42.39923Z"
        },
        "trusted": false,
        "id": "xY9NfQJ-OhZ7",
        "colab_type": "code",
        "colab": {
          "base_uri": "https://localhost:8080/",
          "height": 34
        },
        "outputId": "56be9d4a-2400-4ca0-fb3f-48827ea61345"
      },
      "cell_type": "code",
      "source": [
        "idx_split"
      ],
      "execution_count": 61,
      "outputs": [
        {
          "output_type": "execute_result",
          "data": {
            "text/plain": [
              "253561"
            ]
          },
          "metadata": {
            "tags": []
          },
          "execution_count": 61
        }
      ]
    },
    {
      "metadata": {
        "_uuid": "5011c6d919e3e2553d5c327c960c048c2beeb433",
        "_cell_guid": "b42dbeb5-3f2f-4c7c-8c8b-0a9ef57f0e07",
        "ExecuteTime": {
          "start_time": "2018-03-29T10:14:52.036791Z",
          "end_time": "2018-03-29T10:14:52.2454Z"
        },
        "trusted": false,
        "id": "MGz60wJ2OhZ-",
        "colab_type": "code",
        "colab": {}
      },
      "cell_type": "code",
      "source": [
        "names_for_scale  =  ['time_diff' + str(x) for x in range (1,10)]  +  ['unique','absolutely_unique_count','total_time'] \n",
        "scaler = StandardScaler() \n",
        "for column_name in names_for_scale : \n",
        "    add_train_dummies[column_name] =scaler.fit_transform(add_train_dummies[column_name].values.reshape(-1,1)) \n",
        "    add_test_dummies[column_name]  =scaler.transform(add_test_dummies[column_name].values.reshape(-1,1))"
      ],
      "execution_count": 0,
      "outputs": []
    },
    {
      "metadata": {
        "_uuid": "47f9a66ad47ed7762146a2fd6e3e29171a384f0b",
        "_cell_guid": "967e563d-2a53-4410-82c8-861317ed4858",
        "ExecuteTime": {
          "start_time": "2018-03-29T10:14:55.833451Z",
          "end_time": "2018-03-29T10:14:56.494411Z"
        },
        "trusted": false,
        "id": "sXmgxyNaOhaA",
        "colab_type": "code",
        "colab": {
          "base_uri": "https://localhost:8080/",
          "height": 34
        },
        "outputId": "8285f812-5df0-4d98-efe5-832b938f03b4"
      },
      "cell_type": "code",
      "source": [
        "# Sequence with indexes \n",
        "sites_flatten = full_sites.values.flatten()\n",
        "# \n",
        "full_sites_sparse=csr_matrix(([1]  *  sites_flatten . shape [ 0 ], sites_flatten ,  \n",
        "                                range(0,sites_flatten.shape[0]+10,10)))[:,1:]\n",
        "\n",
        "X_train_sparse  =  full_sites_sparse [: idx_split ] \n",
        "X_test_sparse  =  full_sites_sparse [ idx_split :] \n",
        "full_sites_sparse.shape #(336358, 48371)"
      ],
      "execution_count": 63,
      "outputs": [
        {
          "output_type": "execute_result",
          "data": {
            "text/plain": [
              "(336358, 48371)"
            ]
          },
          "metadata": {
            "tags": []
          },
          "execution_count": 63
        }
      ]
    },
    {
      "metadata": {
        "_uuid": "538e3d08172d5e7cc2e230b8d0be9a3a27dfd771",
        "_cell_guid": "ae687afc-94c2-4ff8-93b0-748440f64019",
        "ExecuteTime": {
          "start_time": "2018-03-30T18:51:12.990795Z",
          "end_time": "2018-03-30T18:51:44.928485Z"
        },
        "trusted": false,
        "id": "vF5KXgJpOhaD",
        "colab_type": "code",
        "colab": {
          "base_uri": "https://localhost:8080/",
          "height": 34
        },
        "outputId": "0478b627-c8a5-4c18-8920-e37b8304f04a"
      },
      "cell_type": "code",
      "source": [
        "full_sites = full_df[sites].astype('str')\n",
        "lst = full_sites[sites].as_matrix().tolist()\n",
        "flat_list = [' '.join(sublist) for sublist in lst]\n",
        "vect = TfidfVectorizer(ngram_range=(1,4), max_features=100000,analyzer='char_wb')\n",
        "tfidf_matrix = vect.fit_transform(flat_list)\n",
        "\n",
        "X_train_tf = tfidf_matrix[:idx_split]\n",
        "X_test_tf  = tfidf_matrix[idx_split:]\n",
        "\n",
        "X_train_tf.shape, X_test_tf.shape"
      ],
      "execution_count": 64,
      "outputs": [
        {
          "output_type": "execute_result",
          "data": {
            "text/plain": [
              "((253561, 13321), (82797, 13321))"
            ]
          },
          "metadata": {
            "tags": []
          },
          "execution_count": 64
        }
      ]
    },
    {
      "metadata": {
        "_uuid": "c7e54dff55e8adc1c3c317608a494b445c323965",
        "_cell_guid": "3ccd52ad-9ad2-40b4-ab6b-288d4c8b122f",
        "id": "0AG29OoVOhaF",
        "colab_type": "text"
      },
      "cell_type": "markdown",
      "source": [
        "**Combine the site matrix and additional features**"
      ]
    },
    {
      "metadata": {
        "_uuid": "85b131e2eb1ce766eb26bc6fea05cb9c3e2fe844",
        "_cell_guid": "71235b9a-261d-43d6-9e26-ef7d6ef3f012",
        "ExecuteTime": {
          "start_time": "2018-03-29T10:15:49.734417Z",
          "end_time": "2018-03-29T10:15:58.257232Z"
        },
        "trusted": false,
        "id": "vauTFtskOhaG",
        "colab_type": "code",
        "colab": {
          "base_uri": "https://localhost:8080/",
          "height": 34
        },
        "outputId": "9b8ec23f-cbf0-42c8-f7d4-96df67ae75bc"
      },
      "cell_type": "code",
      "source": [
        "x_train_full  =  csr_matrix(hstack([X_train_tf,add_train_dummies.values])) \n",
        "x_test_full   =  csr_matrix(hstack([X_test_tf ,add_test_dummies.values])) \n",
        "x_train_full.shape,x_test_full.shape"
      ],
      "execution_count": 65,
      "outputs": [
        {
          "output_type": "execute_result",
          "data": {
            "text/plain": [
              "((253561, 13350), (82797, 13350))"
            ]
          },
          "metadata": {
            "tags": []
          },
          "execution_count": 65
        }
      ]
    },
    {
      "metadata": {
        "_uuid": "75d0c56548021381787aca10b430ab4d57ff1f41",
        "_cell_guid": "92647c48-59a3-4a45-a7b7-49f44ac1133b",
        "id": "IOyI91EROhaL",
        "colab_type": "text"
      },
      "cell_type": "markdown",
      "source": [
        "![Image](https://hsto.org/webt/8i/5k/vx/8i5kvxrehatyvf-l3glz_-ymhtw.png)"
      ]
    },
    {
      "metadata": {
        "_uuid": "e4fa9d6e83deb9e349e2b89ab05d311db505ee07",
        "_cell_guid": "18e77181-2bcb-4530-b5bc-3d3f3fe9881d",
        "ExecuteTime": {
          "start_time": "2018-03-29T10:15:58.26024Z",
          "end_time": "2018-03-29T10:15:58.7212Z"
        },
        "trusted": false,
        "id": "daJHWgPlOhaM",
        "colab_type": "code",
        "colab": {}
      },
      "cell_type": "code",
      "source": [
        "target = train_df['target']\n",
        "X_train , X_valid , y_train , y_valid = train_test_split(x_train_full,target ,test_size=0.2) \n",
        "tscv = TimeSeriesSplit(n_splits = 5);"
      ],
      "execution_count": 0,
      "outputs": []
    },
    {
      "metadata": {
        "_uuid": "2303b69e6cb7646af704c8d96b8b313caadaff35",
        "_cell_guid": "4779e48b-1f3d-4aab-9383-5418489cead1",
        "trusted": false,
        "id": "pZpTO_R7OhaQ",
        "colab_type": "code",
        "colab": {
          "base_uri": "https://localhost:8080/",
          "height": 34
        },
        "outputId": "947efbe2-d800-4bca-e169-1ea78a920a7e"
      },
      "cell_type": "code",
      "source": [
        "tscv"
      ],
      "execution_count": 67,
      "outputs": [
        {
          "output_type": "execute_result",
          "data": {
            "text/plain": [
              "TimeSeriesSplit(max_train_size=None, n_splits=5)"
            ]
          },
          "metadata": {
            "tags": []
          },
          "execution_count": 67
        }
      ]
    },
    {
      "metadata": {
        "_uuid": "7c82225315adb41d53234b90f221b8f139557f5a",
        "_cell_guid": "655f37f2-7cd5-4cff-a1c2-53fa24b26860",
        "trusted": false,
        "id": "_uAX1kqhOhaS",
        "colab_type": "code",
        "colab": {
          "base_uri": "https://localhost:8080/",
          "height": 102
        },
        "outputId": "738eaab9-6651-4feb-fa7d-661574e62711"
      },
      "cell_type": "code",
      "source": [
        "[(el[0].shape, el[1].shape) for el in tscv.split(X_train)]"
      ],
      "execution_count": 68,
      "outputs": [
        {
          "output_type": "execute_result",
          "data": {
            "text/plain": [
              "[((33808,), (33808,)),\n",
              " ((67616,), (33808,)),\n",
              " ((101424,), (33808,)),\n",
              " ((135232,), (33808,)),\n",
              " ((169040,), (33808,))]"
            ]
          },
          "metadata": {
            "tags": []
          },
          "execution_count": 68
        }
      ]
    },
    {
      "metadata": {
        "_uuid": "78ceef636335f7be8d7a089172616b8b9ec4969f",
        "_cell_guid": "2e87b548-a343-4936-be34-485ca25bfae0",
        "id": "LLh47GP_OhaV",
        "colab_type": "text"
      },
      "cell_type": "markdown",
      "source": [
        "**Since our classes are highly unbalanced, the accuracy metric here does not fit.**\n",
        "\n",
        "**We will use ROC_AUC as a metric, and also look at the results of confusion_matrix**"
      ]
    },
    {
      "metadata": {
        "_uuid": "af7bee1c57b55b40f8e023b9c7d0a09c63045bbf",
        "_cell_guid": "36cc7a89-17bc-4b44-8d6d-ada380f10ee6",
        "id": "7RsOCS4BOhaZ",
        "colab_type": "text"
      },
      "cell_type": "markdown",
      "source": [
        "Since we have historical data, interrelated with time, the standard cross-fitting in this case will not work. We will use cross-validation with TimeSeriesSplit - cross-validation techniques for time series. \n",
        "Its essence lies in the following: we divide the sample, for example, into 5 parts: [1, 2, 3, 4, 5], then we train in the following way\n",
        "\n",
        "- Fold 1: training [1], Test [2]\n",
        "- Fold 2: Training [1, 2], Test [3]\n",
        "- Fold 3: teaching [1, 2, 3], Test [4]\n",
        "- Fold 4: training [1, 2, 3, 4], Test [5]\n",
        "\n",
        "**This approach will help to better evaluate the quality of the algorithm.**"
      ]
    },
    {
      "metadata": {
        "_uuid": "4fb79686332d9826e4ebd2aea12986b3fde1a1b8",
        "_cell_guid": "7abb6931-03f8-4f10-8136-e8f6cef5bb42",
        "_kg_hide-output": true,
        "ExecuteTime": {
          "start_time": "2018-03-29T09:46:21.868701Z",
          "end_time": "2018-03-29T09:47:56.997855Z"
        },
        "scrolled": true,
        "trusted": false,
        "id": "6kme97gsOhab",
        "colab_type": "code",
        "colab": {
          "base_uri": "https://localhost:8080/",
          "height": 85
        },
        "outputId": "f12c4431-9514-4f07-ae10-3814f2c5cc1d"
      },
      "cell_type": "code",
      "source": [
        "%%time\n",
        "clf_lr = LogisticRegression (random_state = 42, n_jobs=1, solver='lbfgs', max_iter=8000)\n",
        "clf_lr.fit (X_train, y_train)\n",
        "preds_lr = clf_lr.predict_proba (X_valid)[:, 1]\n",
        "print ('Train test split LogisticRegression score:% s ROC AUC'% round (roc_auc_score (y_valid, preds_lr), 4))\n",
        "cross_score_lr = np.mean (cross_val_score (clf_lr, x_train_full, target, scoring = 'roc_auc', cv = tscv))\n",
        "print ('Cross validation LogisticRegression score:% s ROC AUC'% round (cross_score_lr, 4))"
      ],
      "execution_count": 69,
      "outputs": [
        {
          "output_type": "stream",
          "text": [
            "Train test split LogisticRegression score:0.9802 ROC AUC\n",
            "Cross validation LogisticRegression score:0.9145 ROC AUC\n",
            "CPU times: user 7min 45s, sys: 4min 51s, total: 12min 37s\n",
            "Wall time: 6min 23s\n"
          ],
          "name": "stdout"
        }
      ]
    },
    {
      "metadata": {
        "_uuid": "d558f74904bd9b79d786dd1a2f3fd20e686448f2",
        "_cell_guid": "aa1095b9-ce67-4698-9344-35732fd90d2d",
        "ExecuteTime": {
          "start_time": "2018-03-28T10:09:36.481356Z",
          "end_time": "2018-03-28T10:17:39.587352Z"
        },
        "trusted": false,
        "id": "i5PAGQvvOhag",
        "colab_type": "code",
        "colab": {
          "base_uri": "https://localhost:8080/",
          "height": 85
        },
        "outputId": "9e29172e-2b73-4118-e9c8-2d17e4d3fe5c"
      },
      "cell_type": "code",
      "source": [
        "%%time\n",
        "clf_rf = RandomForestClassifier (random_state = 42, n_estimators = 100)\n",
        "clf_rf.fit (X_train, y_train)\n",
        "preds_rf = clf_rf.predict_proba (X_valid) [:, 1]\n",
        "print ('Train test split RandomForestClassifier score:% s ROC AUC'% round (roc_auc_score (y_valid, preds_rf), 4))\n",
        "cross_score_rf = np.mean (cross_val_score (clf_rf, x_train_full, target, scoring = 'roc_auc', cv = tscv))\n",
        "print ('Cross validation RandomForestClassifier score:% s ROC AUC'% round (cross_score_rf, 4))"
      ],
      "execution_count": 70,
      "outputs": [
        {
          "output_type": "stream",
          "text": [
            "Train test split RandomForestClassifier score:0.98 ROC AUC\n",
            "Cross validation RandomForestClassifier score:0.845 ROC AUC\n",
            "CPU times: user 13min 40s, sys: 214 ms, total: 13min 40s\n",
            "Wall time: 13min 40s\n"
          ],
          "name": "stdout"
        }
      ]
    },
    {
      "metadata": {
        "_uuid": "09310203474756da58d1bf52535489e56ec67b5a",
        "trusted": false,
        "id": "aGIP3vgYOhak",
        "colab_type": "code",
        "colab": {
          "base_uri": "https://localhost:8080/",
          "height": 51
        },
        "outputId": "5ce9bba9-98bc-4d95-f450-62d1ab032693"
      },
      "cell_type": "code",
      "source": [
        "%%time\n",
        "reg_xgb = xgb.XGBRegressor(10, 0.1, 1000, objective= 'binary:logistic', random_state = 42, booster = 'gblinear',scale_pos_weight = 109)\n",
        "reg_xgb.fit(X_train, y_train)\n",
        "preds_xgb_reg = reg_xgb.predict(X_valid)"
      ],
      "execution_count": 71,
      "outputs": [
        {
          "output_type": "stream",
          "text": [
            "CPU times: user 3min 17s, sys: 194 ms, total: 3min 17s\n",
            "Wall time: 3min 17s\n"
          ],
          "name": "stdout"
        }
      ]
    },
    {
      "metadata": {
        "_uuid": "717fa1f5d97fd332fbd5edd00e6ef4898b8f89b2",
        "trusted": false,
        "id": "dPj2d2VSOhan",
        "colab_type": "code",
        "colab": {
          "base_uri": "https://localhost:8080/",
          "height": 34
        },
        "outputId": "e01cf8f8-4f4b-4682-e709-1fec4520f39e"
      },
      "cell_type": "code",
      "source": [
        "preds_xgb_reg.shape"
      ],
      "execution_count": 72,
      "outputs": [
        {
          "output_type": "execute_result",
          "data": {
            "text/plain": [
              "(50713,)"
            ]
          },
          "metadata": {
            "tags": []
          },
          "execution_count": 72
        }
      ]
    },
    {
      "metadata": {
        "_uuid": "d0c20d0fde24206f039dd8910223f81f4f4e0246",
        "_cell_guid": "f31d46ff-3114-4f28-8a07-926c92d802b2",
        "trusted": false,
        "id": "8sNGrJaQOhap",
        "colab_type": "code",
        "colab": {
          "base_uri": "https://localhost:8080/",
          "height": 51
        },
        "outputId": "d75d6225-1ecc-4a86-e566-93d23c1c0edc"
      },
      "cell_type": "code",
      "source": [
        "print ('Train test split XGBRegressor score:% s ROC AUC'% round (roc_auc_score (y_valid, preds_xgb_reg), 4))\n",
        "cross_score_xgb_reg = np.mean (cross_val_score (reg_xgb, x_train_full, target, scoring = 'roc_auc', cv = tscv))\n",
        "print ('Cross validation XGBRegressor score:% s ROC AUC'% round (cross_score_xgb_reg, 4))"
      ],
      "execution_count": 73,
      "outputs": [
        {
          "output_type": "stream",
          "text": [
            "Train test split XGBRegressor score:0.986 ROC AUC\n",
            "Cross validation XGBRegressor score:0.9065 ROC AUC\n"
          ],
          "name": "stdout"
        }
      ]
    },
    {
      "metadata": {
        "_uuid": "9539d7c78a3b076205a6fd96a7b33f457c0ce268",
        "_cell_guid": "73002342-0fd3-4590-ac6a-bacd8138ce16",
        "ExecuteTime": {
          "start_time": "2018-03-28T10:17:39.587352Z",
          "end_time": "2018-03-28T10:18:11.859726Z"
        },
        "trusted": false,
        "id": "OJYETHf1Ohar",
        "colab_type": "code",
        "colab": {
          "base_uri": "https://localhost:8080/",
          "height": 85
        },
        "outputId": "3c89914d-c48d-4745-fc16-4436ab96cc37"
      },
      "cell_type": "code",
      "source": [
        "%%time\n",
        "clf_xgb = xgb.XGBClassifier (random_state = 42, booster = 'gblinear')\n",
        "clf_xgb.fit (X_train, y_train)\n",
        "preds_xgb = clf_xgb.predict_proba (X_valid) [:, 1]\n",
        "print ('Train test split XGBClassifier score:% s ROC AUC'% round (roc_auc_score (y_valid, preds_xgb), 4))\n",
        "cross_score_xgb = np.mean (cross_val_score (clf_xgb, x_train_full, target, scoring = 'roc_auc', cv = tscv))\n",
        "print ('Cross validation XGBClassifier score:% s ROC AUC'% round (cross_score_xgb, 4))"
      ],
      "execution_count": 74,
      "outputs": [
        {
          "output_type": "stream",
          "text": [
            "Train test split XGBClassifier score:0.9795 ROC AUC\n",
            "Cross validation XGBClassifier score:0.915 ROC AUC\n",
            "CPU times: user 1min 43s, sys: 980 ms, total: 1min 44s\n",
            "Wall time: 1min 44s\n"
          ],
          "name": "stdout"
        }
      ]
    },
    {
      "metadata": {
        "_uuid": "c768e8b22ee142349a734a0eb3d74626a3223d30",
        "_cell_guid": "116f8586-c7fb-4e9d-a1ba-96f62e41d1a9",
        "trusted": false,
        "id": "8iXD6pvAOhau",
        "colab_type": "code",
        "colab": {
          "base_uri": "https://localhost:8080/",
          "height": 512
        },
        "outputId": "012d193d-0b3f-45ff-e4d0-2b73dde47fe6"
      },
      "cell_type": "code",
      "source": [
        "fpr_lr,tpr_lr,threshold=roc_curve(y_valid,preds_lr)\n",
        "roc_auc_lr = auc(fpr_lr,tpr_lr)\n",
        "\n",
        "fpr_rf,tpr_rf,threshold=roc_curve(y_valid,preds_rf)\n",
        "roc_auc_rf = auc(fpr_rf,tpr_rf)\n",
        "\n",
        "fpr_xgb_reg,tpr_xgb_reg,threshold=roc_curve(y_valid,preds_xgb_reg)\n",
        "roc_auc_xgb_reg = auc(fpr_xgb_reg,tpr_xgb_reg)\n",
        "\n",
        "fpr_xgb,tpr_xgb,threshold=roc_curve(y_valid,preds_xgb)\n",
        "roc_auc_xgb = auc(fpr_xgb,tpr_xgb)\n",
        "\n",
        "plt.figure(figsize=(12,8))\n",
        "plt.title('Receiver Operating Characteristic Curve')\n",
        "plt.plot(fpr_lr, tpr_lr,'r', label='AUC LR=%0.4f'%roc_auc_lr)\n",
        "plt.plot(fpr_rf, tpr_rf,'b', label='AUC RF=%0.4f'%roc_auc_rf)\n",
        "plt.plot(fpr_xgb, tpr_xgb,'g', label='AUC XGB REG=%0.4f'%roc_auc_xgb_reg)\n",
        "plt.plot(fpr_xgb_reg, tpr_xgb_reg, 'y', label='AUC XGB=%0.4f'%roc_auc_xgb)\n",
        "plt.legend(loc='lowerright')\n",
        "plt.plot([0,1],[0,1],'r--')\n",
        "plt.xlim([0,1])\n",
        "plt.ylim([0,1])\n",
        "plt.ylabel('True Positive Rate')\n",
        "plt.xlabel('False Positive Rate');"
      ],
      "execution_count": 75,
      "outputs": [
        {
          "output_type": "display_data",
          "data": {
            "image/png": "[encoded data removed]",
            "text/plain": [
              "<Figure size 864x576 with 1 Axes>"
            ]
          },
          "metadata": {
            "tags": []
          }
        }
      ]
    },
    {
      "metadata": {
        "_uuid": "1b228db2eb049c1a50da424eaf39d71868076c6c",
        "_cell_guid": "7e80d101-5dab-4c84-8bf4-7df5899db9ac",
        "trusted": false,
        "id": "qhkkGhdbOhaw",
        "colab_type": "code",
        "colab": {}
      },
      "cell_type": "code",
      "source": [
        "def show_confusion_matrix(y_true,y_pred,title='Confusionmatrix'):\n",
        "    table=confusion_matrix(y_true.values,y_pred)\n",
        "    fig,ax=plt.subplots(frameon=False)\n",
        "    fig.set_size_inches(4,3)\n",
        "    fig.suptitle(title,fontsize=20)\n",
        "    ax.axis('off')\n",
        "    ax.xaxis.set_visible(False)\n",
        "    ax.yaxis.set_visible(False)\n",
        "\n",
        "    the_table=ax.table(cellText=table,\n",
        "                        colWidths=[0.5]*len([0,1]),\n",
        "                        rowLabels=['True 0','True 1'],colLabels=['Predicted 0','Predicted 1'],\n",
        "                        cellLoc='center',rowLoc='center',loc=\"center\")\n",
        "    the_table.set_fontsize(34)\n",
        "    the_table.scale(1,4)\n",
        "    plt.show()"
      ],
      "execution_count": 0,
      "outputs": []
    },
    {
      "metadata": {
        "_uuid": "4577d82fceb299ae5a662b501a8f08526774e4df",
        "_cell_guid": "0d5e97e8-0e21-4382-bae3-b1bccb0a7618",
        "trusted": false,
        "id": "SAPpw8rsOha3",
        "colab_type": "code",
        "colab": {
          "base_uri": "https://localhost:8080/",
          "height": 216
        },
        "outputId": "2a6d7412-e0c0-4161-a69f-55d95b71d727"
      },
      "cell_type": "code",
      "source": [
        "show_confusion_matrix(y_valid, clf_lr.predict(X_valid))"
      ],
      "execution_count": 77,
      "outputs": [
        {
          "output_type": "display_data",
          "data": {
            "image/png": "[encoded data removed]",
            "text/plain": [
              "<Figure size 288x216 with 1 Axes>"
            ]
          },
          "metadata": {
            "tags": []
          }
        }
      ]
    },
    {
      "metadata": {
        "_uuid": "204f8a85b23fe35de6e4a17452e7e1530cb86eeb",
        "_cell_guid": "271a9bdc-6230-486a-9846-7888379930cd",
        "trusted": false,
        "id": "vnKX65RuOhbA",
        "colab_type": "code",
        "colab": {
          "base_uri": "https://localhost:8080/",
          "height": 216
        },
        "outputId": "b7b5aeb7-290f-43d8-dd60-52ecd6caab39"
      },
      "cell_type": "code",
      "source": [
        "show_confusion_matrix(y_valid, clf_xgb.predict(X_valid))"
      ],
      "execution_count": 78,
      "outputs": [
        {
          "output_type": "display_data",
          "data": {
            "image/png": "[encoded data removed]",
            "text/plain": [
              "<Figure size 288x216 with 1 Axes>"
            ]
          },
          "metadata": {
            "tags": []
          }
        }
      ]
    },
    {
      "metadata": {
        "_uuid": "35c2a19d15554f716439d107f17e7bf155d7872f",
        "_cell_guid": "1b41b47a-52f1-4f41-9232-dc783ce97c47",
        "ExecuteTime": {
          "start_time": "2018-03-29T09:49:04.876508Z",
          "end_time": "2018-03-29T09:49:04.932509Z"
        },
        "trusted": false,
        "id": "FVgoUmR7OhbD",
        "colab_type": "code",
        "colab": {}
      },
      "cell_type": "code",
      "source": [
        "def get_auc_lr_valid(X, y, C=1.0, seed=17, ratio = 0.9):\n",
        "    # Split the data into the training and validation sets\n",
        "    idx = int(round(X.shape[0] * ratio))\n",
        "    # Classifier training\n",
        "    lr = LogisticRegression(C=C, random_state=seed,max_iter=8000,n_jobs=1,solver='lbfgs').fit(X[:idx, :], y[:idx])\n",
        "    # Prediction for validation set\n",
        "    y_pred = lr.predict_proba(X[idx:, :])[:, 1]\n",
        "    # Calculate the quality\n",
        "    score = roc_auc_score(y[idx:], y_pred)\n",
        "    return score"
      ],
      "execution_count": 0,
      "outputs": []
    },
    {
      "metadata": {
        "_uuid": "538adf302af0a03bf35c883cfeb7726a01a6d2c9",
        "_cell_guid": "6f050ec7-e7ee-4041-ad0b-5a324106fc63",
        "ExecuteTime": {
          "start_time": "2018-03-29T09:51:43.509956Z",
          "end_time": "2018-03-29T10:06:14.855477Z"
        },
        "trusted": false,
        "id": "lJMBdcEGOhbI",
        "colab_type": "code",
        "colab": {
          "base_uri": "https://localhost:8080/",
          "height": 68
        },
        "outputId": "b84a5de0-d7d6-46fe-bfe9-3c3f32a6908f"
      },
      "cell_type": "code",
      "source": [
        "%%time\n",
        "from tqdm import tqdm\n",
        "# List of possible C-values\n",
        "Cs = np.logspace(-1, 1, 20)\n",
        "\n",
        "scores = []\n",
        "\n",
        "for C in tqdm(Cs):\n",
        "     scores.append(get_auc_lr_valid(X_train, y_train, C=C))"
      ],
      "execution_count": 80,
      "outputs": [
        {
          "output_type": "stream",
          "text": [
            "100%|██████████| 20/20 [39:50<00:00, 205.46s/it]"
          ],
          "name": "stderr"
        },
        {
          "output_type": "stream",
          "text": [
            "CPU times: user 48min 27s, sys: 30min 12s, total: 1h 18min 39s\n",
            "Wall time: 39min 50s\n"
          ],
          "name": "stdout"
        },
        {
          "output_type": "stream",
          "text": [
            "\n"
          ],
          "name": "stderr"
        }
      ]
    },
    {
      "metadata": {
        "_uuid": "d3d9d451eebaa7b0bb04e4eff99d31e53e2665fb",
        "_cell_guid": "7d1d51dd-3282-4845-90bd-bae874a60a38",
        "ExecuteTime": {
          "start_time": "2018-03-29T10:06:14.855477Z",
          "end_time": "2018-03-29T10:06:14.86633Z"
        },
        "trusted": false,
        "id": "ZBu7bfq9OhbL",
        "colab_type": "code",
        "colab": {
          "base_uri": "https://localhost:8080/",
          "height": 85
        },
        "outputId": "e6cb515e-2ee5-472d-cb1f-e028ca2ab801"
      },
      "cell_type": "code",
      "source": [
        "Cs"
      ],
      "execution_count": 81,
      "outputs": [
        {
          "output_type": "execute_result",
          "data": {
            "text/plain": [
              "array([ 0.1       ,  0.1274275 ,  0.16237767,  0.20691381,  0.26366509,\n",
              "        0.33598183,  0.42813324,  0.54555948,  0.6951928 ,  0.88586679,\n",
              "        1.12883789,  1.43844989,  1.83298071,  2.33572147,  2.97635144,\n",
              "        3.79269019,  4.83293024,  6.15848211,  7.8475997 , 10.        ])"
            ]
          },
          "metadata": {
            "tags": []
          },
          "execution_count": 81
        }
      ]
    },
    {
      "metadata": {
        "_uuid": "21a5f3c8a54d2b6ddc1d27e051d4725da355554c",
        "_cell_guid": "08ae6149-b916-4256-b510-c9942fd9aa74",
        "ExecuteTime": {
          "start_time": "2018-03-29T10:06:14.86633Z",
          "end_time": "2018-03-29T10:06:14.945562Z"
        },
        "trusted": false,
        "id": "vF4DlO0LOhbP",
        "colab_type": "code",
        "colab": {
          "base_uri": "https://localhost:8080/",
          "height": 391
        },
        "outputId": "78a36f6d-c161-4ee0-8717-c1e290367ca0"
      },
      "cell_type": "code",
      "source": [
        "scores, max(scores), Cs[np.argmax(scores)]"
      ],
      "execution_count": 82,
      "outputs": [
        {
          "output_type": "execute_result",
          "data": {
            "text/plain": [
              "([0.9427642160675185,\n",
              "  0.9474147577188402,\n",
              "  0.951359040641204,\n",
              "  0.9548394460060642,\n",
              "  0.9578900954346449,\n",
              "  0.9606651245262683,\n",
              "  0.9631627683694926,\n",
              "  0.9655874625397545,\n",
              "  0.9677533030317649,\n",
              "  0.9699117897260975,\n",
              "  0.9719099636310583,\n",
              "  0.9737428241642262,\n",
              "  0.9754659660360442,\n",
              "  0.977011146004064,\n",
              "  0.9783471839661326,\n",
              "  0.9794920231885831,\n",
              "  0.980465960153006,\n",
              "  0.981285467366199,\n",
              "  0.9820911494397583,\n",
              "  0.9826785707982459],\n",
              " 0.9826785707982459,\n",
              " 10.0)"
            ]
          },
          "metadata": {
            "tags": []
          },
          "execution_count": 82
        }
      ]
    },
    {
      "metadata": {
        "_uuid": "626603de5ccfb61b9dd7822d68e3ad68778eeff5",
        "_cell_guid": "5fb78654-6b32-4a2a-8cf3-6620ea48807a",
        "trusted": false,
        "id": "9Fp-J4lROhbW",
        "colab_type": "code",
        "colab": {
          "base_uri": "https://localhost:8080/",
          "height": 34
        },
        "outputId": "8385609e-891b-48be-81aa-73c71a68fd6c"
      },
      "cell_type": "code",
      "source": [
        "final_model = LogisticRegression(random_state = 17, C = Cs[np.argmax(scores)],n_jobs=1) \n",
        "final_model.fit(X_train,y_train) \n",
        "print('ROC_AUC on the test sample: {} '.format(round(roc_auc_score(y_valid,final_model.predict_proba(X_valid)[:,1]),4)))"
      ],
      "execution_count": 83,
      "outputs": [
        {
          "output_type": "stream",
          "text": [
            "ROC_AUC on the test sample: 0.986 \n"
          ],
          "name": "stdout"
        }
      ]
    },
    {
      "metadata": {
        "_uuid": "073df23e9963b9883e4e30fab18c981ec50aebcf",
        "_cell_guid": "19996147-e56f-4827-bd40-30565f1b8f07",
        "ExecuteTime": {
          "start_time": "2018-03-29T10:08:16.265833Z",
          "end_time": "2018-03-29T10:08:16.289843Z"
        },
        "trusted": false,
        "id": "eTr0d8SwOhba",
        "colab_type": "code",
        "colab": {}
      },
      "cell_type": "code",
      "source": [
        "# Function for writing predictions to a file\n",
        "def write_to_submission_file(predicted_labels, out_file,\n",
        "                             target='target', index_label=\"session_id\"):\n",
        "    predicted_df = pd.DataFrame(predicted_labels,\n",
        "                                index = np.arange(1, predicted_labels.shape[0] + 1),\n",
        "                                columns=[target])\n",
        "    predicted_df.to_csv(out_file, index_label=index_label)"
      ],
      "execution_count": 0,
      "outputs": []
    },
    {
      "metadata": {
        "_uuid": "948dcaa9002601bf051e32ce2d7168e7b0c1eff7",
        "_cell_guid": "3aa734bf-0d01-47f1-a009-43da9ceb94c5",
        "ExecuteTime": {
          "start_time": "2018-03-29T10:17:59.593626Z",
          "end_time": "2018-03-29T10:17:59.627716Z"
        },
        "trusted": false,
        "id": "sh6jm1UBOhbd",
        "colab_type": "code",
        "colab": {}
      },
      "cell_type": "code",
      "source": [
        "preds = final_model.predict_proba(x_test_full)[:,1]"
      ],
      "execution_count": 0,
      "outputs": []
    },
    {
      "metadata": {
        "_uuid": "92ef742859fe0134900af0e3fdfb264a2832aa1d",
        "_cell_guid": "a04f1636-7c00-47ee-a607-0161116e79f5",
        "ExecuteTime": {
          "start_time": "2018-03-29T10:17:59.629723Z",
          "end_time": "2018-03-29T10:17:59.706928Z"
        },
        "trusted": false,
        "id": "3_tYlbN8Ohbg",
        "colab_type": "code",
        "colab": {
          "base_uri": "https://localhost:8080/",
          "height": 68
        },
        "outputId": "b08e5807-76d3-4bb3-96ca-08449e57071b"
      },
      "cell_type": "code",
      "source": [
        "preds[:10]"
      ],
      "execution_count": 86,
      "outputs": [
        {
          "output_type": "execute_result",
          "data": {
            "text/plain": [
              "array([1.18263856e-07, 1.28646015e-07, 1.45052483e-04, 2.00270710e-07,\n",
              "       6.12962672e-05, 9.06045133e-07, 5.64513116e-06, 3.42386613e-05,\n",
              "       3.67954621e-06, 1.79744790e-04])"
            ]
          },
          "metadata": {
            "tags": []
          },
          "execution_count": 86
        }
      ]
    },
    {
      "metadata": {
        "_uuid": "4e3686f6a0e080e4d8fbfcba9fd04e424805e96c",
        "_cell_guid": "143da550-bfbb-45e4-a98e-5b74555b3b07",
        "trusted": false,
        "id": "0l4WBY2TOhbi",
        "colab_type": "code",
        "colab": {}
      },
      "cell_type": "code",
      "source": [
        "preds = np.where(preds > 0.945, 0.985, preds)"
      ],
      "execution_count": 0,
      "outputs": []
    },
    {
      "metadata": {
        "_uuid": "bd7b6782247df64518bbb3e54d504dbc4d8e60fa",
        "_cell_guid": "1ad8ad1a-10b1-4120-a655-f64e6f0e9c69",
        "ExecuteTime": {
          "start_time": "2018-03-29T10:17:59.708934Z",
          "end_time": "2018-03-29T10:18:00.188694Z"
        },
        "trusted": false,
        "id": "_7qJo79BOhbl",
        "colab_type": "code",
        "colab": {}
      },
      "cell_type": "code",
      "source": [
        "write_to_submission_file(preds,'re-git_v4.csv')"
      ],
      "execution_count": 0,
      "outputs": []
    },
    {
      "metadata": {
        "_uuid": "5f5229e030270acdfaae1aaf25f7824fad49473b",
        "_cell_guid": "346e1eb6-3683-4bb7-9905-f2cf6191dadd",
        "id": "MZVYp37YOhbn",
        "colab_type": "text"
      },
      "cell_type": "markdown",
      "source": [
        "### Hope it was Useful (More To Come, till then Enjoy and share your Views Below...****)\n",
        "\n",
        "Thanks\n",
        "\n",
        "- *Aditya Soni*"
      ]
    }
  ]
}